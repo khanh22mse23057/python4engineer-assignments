{
  "nbformat": 4,
  "nbformat_minor": 0,
  "metadata": {
    "colab": {
      "provenance": [],
      "collapsed_sections": [
        "E6O98r0V8-Jc",
        "Bpqfsn6GUd0j",
        "bY7zxezw2e8b",
        "9DgFmQSTjTES",
        "7bfrFVkOqQET"
      ],
      "toc_visible": true,
      "authorship_tag": "ABX9TyN0KVJULRLMQUoF27A/1Xk5",
      "include_colab_link": true
    },
    "kernelspec": {
      "name": "python3",
      "display_name": "Python 3"
    },
    "language_info": {
      "name": "python"
    }
  },
  "cells": [
    {
      "cell_type": "markdown",
      "metadata": {
        "id": "view-in-github",
        "colab_type": "text"
      },
      "source": [
        "<a href=\"https://colab.research.google.com/github/khanh22mse23057/python4engineer-assignments/blob/main/Assignments3_M5_Forecasting_with_LSTM_and_LightGBM.ipynb\" target=\"_parent\"><img src=\"https://colab.research.google.com/assets/colab-badge.svg\" alt=\"Open In Colab\"/></a>"
      ]
    },
    {
      "cell_type": "markdown",
      "source": [
        "# Tìm hiểu về LSTM and LightGBM"
      ],
      "metadata": {
        "id": "auDhZYgP4w2D"
      }
    },
    {
      "cell_type": "markdown",
      "source": [
        "##  *Lời mở đầu*\n",
        "\n",
        "Long short-term memory (LSTM) là một kiến ​​trúc artificial recurrent neural network (RNN) được sử dụng trong lĩnh vực Deep learning. \n",
        "Light gradient-boost machine(LightGBM), là một khuôn khổ tăng cường độ dốc phân tán miễn phí và mã nguồn mở dành cho máy học, ban đầu được phát triển bởi Microsoft. Nó dựa trên các thuật toán cây quyết định và được sử dụng để xếp hạng, phân loại và các tác vụ học máy khác\n"
      ],
      "metadata": {
        "id": "E6O98r0V8-Jc"
      }
    },
    {
      "cell_type": "markdown",
      "source": [
        "### **Cài đặt môi trường**\n",
        "Để truy xuất được dữ liệu từ Kaggle cũng như chạy được các đoạn mã ví dụ cần phải cài đặt một số packages"
      ],
      "metadata": {
        "id": "F3E3xBtDVI4Q"
      }
    },
    {
      "cell_type": "code",
      "source": [
        "# Một số functions trong bài không work với latest version, nên cài đặt packages version chỉ định như sau\n",
        "# !pip install opendatasets\n",
        "# !pip install pandas==1.2.0\n",
        "# !pip install pystan==3.0.0\n",
        "!pip install pandas \n",
        "\n",
        "!pip install kaggle\n",
        "!pip install unzip"
      ],
      "metadata": {
        "id": "RwbRYLsHU9rZ"
      },
      "execution_count": null,
      "outputs": []
    },
    {
      "cell_type": "markdown",
      "source": [
        "\n",
        "### Import tệp dữ liệu training từ Kaggle\n",
        "Để truy cập được tệp data từ Kaggle, cần phải tạo key và cấu hình môi trường\n",
        "\n",
        "Ví dụ file secret key được tạo từ Kaggle và được lấy về từ github. Cách tạo key : https://prnt.sc/UCwb6zgoPzYT\n",
        "* Lưu ý: Kaggle yêu cầu xác thực tài khoản bằng số điện thoại để cấp cấp quyền truy cập dữ liệu."
      ],
      "metadata": {
        "id": "0BjFy9eTxfHk"
      }
    },
    {
      "cell_type": "code",
      "source": [
        "import os\n",
        "#Cấu hình secret key để xác thực truy cập đến Kaggle trên môi trường\n",
        "os.environ['KAGGLE_USERNAME'] = 'khanhphamnguyenphu'\n",
        "os.environ['KAGGLE_KEY'] = '67b96e181bd01730f8e8ec3cf2b685a7'\n",
        "\n",
        "!if [ -d ~/.kaggle/ ]; then rm -Rf ~/.kaggle/; fi\n",
        "!if [ -d ./kaggle/input/ ]; then rm -Rf ./kaggle/input/; fi\n",
        "\n",
        "!kaggle competitions download -c m5-forecasting-accuracy -p ./kaggle/input/ # Download dữ liệu train từ Kaggle\n",
        "!unzip  ./kaggle/input/*.zip -d ./kaggle/input/\n",
        "!ls ./kaggle/input/ \n"
      ],
      "metadata": {
        "colab": {
          "base_uri": "https://localhost:8080/"
        },
        "id": "S3-V3wLULniG",
        "outputId": "2428216f-f846-46fd-eb60-6766180713d9"
      },
      "execution_count": null,
      "outputs": [
        {
          "output_type": "stream",
          "name": "stdout",
          "text": [
            "Downloading m5-forecasting-accuracy.zip to ./kaggle/input\n",
            " 68% 31.0M/45.8M [00:00<00:00, 157MB/s]\n",
            "100% 45.8M/45.8M [00:00<00:00, 151MB/s]\n",
            "Archive:  ./kaggle/input/m5-forecasting-accuracy.zip\n",
            "  inflating: ./kaggle/input/calendar.csv  \n",
            "  inflating: ./kaggle/input/sales_train_evaluation.csv  \n",
            "  inflating: ./kaggle/input/sales_train_validation.csv  \n",
            "  inflating: ./kaggle/input/sample_submission.csv  \n",
            "  inflating: ./kaggle/input/sell_prices.csv  \n",
            "calendar.csv\t\t     sales_train_evaluation.csv  sample_submission.csv\n",
            "m5-forecasting-accuracy.zip  sales_train_validation.csv  sell_prices.csv\n"
          ]
        }
      ]
    }
  ]
}