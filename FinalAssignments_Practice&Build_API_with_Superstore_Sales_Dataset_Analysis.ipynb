{
  "nbformat": 4,
  "nbformat_minor": 0,
  "metadata": {
    "colab": {
      "provenance": [],
      "collapsed_sections": [],
      "toc_visible": true,
      "authorship_tag": "ABX9TyOVwjSJZV31HbXK+YTE7ObB",
      "include_colab_link": true
    },
    "kernelspec": {
      "name": "python3",
      "display_name": "Python 3"
    },
    "language_info": {
      "name": "python"
    }
  },
  "cells": [
    {
      "cell_type": "markdown",
      "metadata": {
        "id": "view-in-github",
        "colab_type": "text"
      },
      "source": [
        "<a href=\"https://colab.research.google.com/github/khanh22mse23057/python4engineer-assignments/blob/main/FinalAssignments_Practice%26Build_API_with_Superstore_Sales_Dataset_Analysis.ipynb\" target=\"_parent\"><img src=\"https://colab.research.google.com/assets/colab-badge.svg\" alt=\"Open In Colab\"/></a>"
      ]
    },
    {
      "cell_type": "markdown",
      "source": [
        "# Bài tập lớn kết thúc môn"
      ],
      "metadata": {
        "id": "auDhZYgP4w2D"
      }
    },
    {
      "cell_type": "markdown",
      "source": [
        "##  *Đặt vấn đề*\n",
        "\n",
        "Cho tập dữ liệu về doanh số bán hàng gồm các thông tin như sau:\n",
        "[Input Data](https://drive.google.com/file/d/1QWD8rceAWo6KJYHh6Tx0eBtAM9U1EQno/view?usp=sharing(sad)\n",
        "\n",
        "[Superstore Sales Dataset Analysis | Kaggle ](https://www.kaggle.com/code/adamossama/superstore-sales-dataset-analysis/data)\n",
        "- order_id\n",
        "- order_date\n",
        "- ship_date\n",
        "- ship_mode\n",
        "- customer_id\n",
        "- customer_name\n",
        "- segment\n",
        "- country\n",
        "- city\n",
        "- state\n",
        "- region\n",
        "- product_id\n",
        "- sub-category\n",
        "- product_name\n",
        "- sales\n",
        "\n",
        "Hãy sử dụng Python và Jupyter Notebook để trả lời các câu hỏi sau\n",
        "\n"
      ],
      "metadata": {
        "id": "E6O98r0V8-Jc"
      }
    },
    {
      "cell_type": "markdown",
      "source": [
        "## Cài đặt môi trường"
      ],
      "metadata": {
        "id": "2qFVLGhzoy4B"
      }
    },
    {
      "cell_type": "code",
      "source": [
        "# Trước hết, cần install Python và package Kaggle\n",
        "# Một số functions trong bài không work với latest version, nên cài đặt packages version chỉ định như sau\n",
        "!pip install opendatasets\n",
        "# !pip install pandas==1.2.0\n",
        "# !pip install pystan==3.0.0\n",
        "!pip install pandas\n",
        "!pip install pystan\n",
        "!pip install kaggle\n",
        "!pip install unzip"
      ],
      "metadata": {
        "id": "RwbRYLsHU9rZ",
        "colab": {
          "base_uri": "https://localhost:8080/"
        },
        "outputId": "ebaa2b5f-a641-42ad-e59d-56a25adaf118"
      },
      "execution_count": 1,
      "outputs": [
        {
          "output_type": "stream",
          "name": "stdout",
          "text": [
            "Looking in indexes: https://pypi.org/simple, https://us-python.pkg.dev/colab-wheels/public/simple/\n",
            "Collecting opendatasets\n",
            "  Downloading opendatasets-0.1.22-py3-none-any.whl (15 kB)\n",
            "Requirement already satisfied: kaggle in /usr/local/lib/python3.7/dist-packages (from opendatasets) (1.5.12)\n",
            "Requirement already satisfied: click in /usr/local/lib/python3.7/dist-packages (from opendatasets) (7.1.2)\n",
            "Requirement already satisfied: tqdm in /usr/local/lib/python3.7/dist-packages (from opendatasets) (4.64.1)\n",
            "Requirement already satisfied: requests in /usr/local/lib/python3.7/dist-packages (from kaggle->opendatasets) (2.23.0)\n",
            "Requirement already satisfied: python-slugify in /usr/local/lib/python3.7/dist-packages (from kaggle->opendatasets) (6.1.2)\n",
            "Requirement already satisfied: urllib3 in /usr/local/lib/python3.7/dist-packages (from kaggle->opendatasets) (1.24.3)\n",
            "Requirement already satisfied: python-dateutil in /usr/local/lib/python3.7/dist-packages (from kaggle->opendatasets) (2.8.2)\n",
            "Requirement already satisfied: certifi in /usr/local/lib/python3.7/dist-packages (from kaggle->opendatasets) (2022.9.24)\n",
            "Requirement already satisfied: six>=1.10 in /usr/local/lib/python3.7/dist-packages (from kaggle->opendatasets) (1.15.0)\n",
            "Requirement already satisfied: text-unidecode>=1.3 in /usr/local/lib/python3.7/dist-packages (from python-slugify->kaggle->opendatasets) (1.3)\n",
            "Requirement already satisfied: idna<3,>=2.5 in /usr/local/lib/python3.7/dist-packages (from requests->kaggle->opendatasets) (2.10)\n",
            "Requirement already satisfied: chardet<4,>=3.0.2 in /usr/local/lib/python3.7/dist-packages (from requests->kaggle->opendatasets) (3.0.4)\n",
            "Installing collected packages: opendatasets\n",
            "Successfully installed opendatasets-0.1.22\n",
            "Looking in indexes: https://pypi.org/simple, https://us-python.pkg.dev/colab-wheels/public/simple/\n",
            "Requirement already satisfied: pandas in /usr/local/lib/python3.7/dist-packages (1.3.5)\n",
            "Requirement already satisfied: pytz>=2017.3 in /usr/local/lib/python3.7/dist-packages (from pandas) (2022.5)\n",
            "Requirement already satisfied: python-dateutil>=2.7.3 in /usr/local/lib/python3.7/dist-packages (from pandas) (2.8.2)\n",
            "Requirement already satisfied: numpy>=1.17.3 in /usr/local/lib/python3.7/dist-packages (from pandas) (1.21.6)\n",
            "Requirement already satisfied: six>=1.5 in /usr/local/lib/python3.7/dist-packages (from python-dateutil>=2.7.3->pandas) (1.15.0)\n",
            "Looking in indexes: https://pypi.org/simple, https://us-python.pkg.dev/colab-wheels/public/simple/\n",
            "Requirement already satisfied: pystan in /usr/local/lib/python3.7/dist-packages (3.3.0)\n",
            "Requirement already satisfied: numpy<2.0,>=1.7 in /usr/local/lib/python3.7/dist-packages (from pystan) (1.21.6)\n",
            "Requirement already satisfied: httpstan<4.7,>=4.6 in /usr/local/lib/python3.7/dist-packages (from pystan) (4.6.1)\n",
            "Requirement already satisfied: clikit<0.7,>=0.6 in /usr/local/lib/python3.7/dist-packages (from pystan) (0.6.2)\n",
            "Requirement already satisfied: pysimdjson<4.0,>=3.2 in /usr/local/lib/python3.7/dist-packages (from pystan) (3.2.0)\n",
            "Requirement already satisfied: aiohttp<4.0,>=3.6 in /usr/local/lib/python3.7/dist-packages (from pystan) (3.8.3)\n",
            "Requirement already satisfied: typing-extensions>=3.7.4 in /usr/local/lib/python3.7/dist-packages (from aiohttp<4.0,>=3.6->pystan) (4.1.1)\n",
            "Requirement already satisfied: async-timeout<5.0,>=4.0.0a3 in /usr/local/lib/python3.7/dist-packages (from aiohttp<4.0,>=3.6->pystan) (4.0.2)\n",
            "Requirement already satisfied: charset-normalizer<3.0,>=2.0 in /usr/local/lib/python3.7/dist-packages (from aiohttp<4.0,>=3.6->pystan) (2.1.1)\n",
            "Requirement already satisfied: multidict<7.0,>=4.5 in /usr/local/lib/python3.7/dist-packages (from aiohttp<4.0,>=3.6->pystan) (6.0.2)\n",
            "Requirement already satisfied: attrs>=17.3.0 in /usr/local/lib/python3.7/dist-packages (from aiohttp<4.0,>=3.6->pystan) (22.1.0)\n",
            "Requirement already satisfied: asynctest==0.13.0 in /usr/local/lib/python3.7/dist-packages (from aiohttp<4.0,>=3.6->pystan) (0.13.0)\n",
            "Requirement already satisfied: yarl<2.0,>=1.0 in /usr/local/lib/python3.7/dist-packages (from aiohttp<4.0,>=3.6->pystan) (1.8.1)\n",
            "Requirement already satisfied: frozenlist>=1.1.1 in /usr/local/lib/python3.7/dist-packages (from aiohttp<4.0,>=3.6->pystan) (1.3.1)\n",
            "Requirement already satisfied: aiosignal>=1.1.2 in /usr/local/lib/python3.7/dist-packages (from aiohttp<4.0,>=3.6->pystan) (1.2.0)\n",
            "Requirement already satisfied: pastel<0.3.0,>=0.2.0 in /usr/local/lib/python3.7/dist-packages (from clikit<0.7,>=0.6->pystan) (0.2.1)\n",
            "Requirement already satisfied: crashtest<0.4.0,>=0.3.0 in /usr/local/lib/python3.7/dist-packages (from clikit<0.7,>=0.6->pystan) (0.3.1)\n",
            "Requirement already satisfied: pylev<2.0,>=1.3 in /usr/local/lib/python3.7/dist-packages (from clikit<0.7,>=0.6->pystan) (1.4.0)\n",
            "Requirement already satisfied: setuptools>=41.0 in /usr/local/lib/python3.7/dist-packages (from httpstan<4.7,>=4.6->pystan) (57.4.0)\n",
            "Requirement already satisfied: webargs<9.0,>=8.0 in /usr/local/lib/python3.7/dist-packages (from httpstan<4.7,>=4.6->pystan) (8.2.0)\n",
            "Requirement already satisfied: marshmallow<4.0,>=3.10 in /usr/local/lib/python3.7/dist-packages (from httpstan<4.7,>=4.6->pystan) (3.18.0)\n",
            "Requirement already satisfied: appdirs<2.0,>=1.4 in /usr/local/lib/python3.7/dist-packages (from httpstan<4.7,>=4.6->pystan) (1.4.4)\n",
            "Requirement already satisfied: packaging>=17.0 in /usr/local/lib/python3.7/dist-packages (from marshmallow<4.0,>=3.10->httpstan<4.7,>=4.6->pystan) (21.3)\n",
            "Requirement already satisfied: pyparsing!=3.0.5,>=2.0.2 in /usr/local/lib/python3.7/dist-packages (from packaging>=17.0->marshmallow<4.0,>=3.10->httpstan<4.7,>=4.6->pystan) (3.0.9)\n",
            "Requirement already satisfied: idna>=2.0 in /usr/local/lib/python3.7/dist-packages (from yarl<2.0,>=1.0->aiohttp<4.0,>=3.6->pystan) (2.10)\n",
            "Looking in indexes: https://pypi.org/simple, https://us-python.pkg.dev/colab-wheels/public/simple/\n",
            "Requirement already satisfied: kaggle in /usr/local/lib/python3.7/dist-packages (1.5.12)\n",
            "Requirement already satisfied: tqdm in /usr/local/lib/python3.7/dist-packages (from kaggle) (4.64.1)\n",
            "Requirement already satisfied: python-dateutil in /usr/local/lib/python3.7/dist-packages (from kaggle) (2.8.2)\n",
            "Requirement already satisfied: requests in /usr/local/lib/python3.7/dist-packages (from kaggle) (2.23.0)\n",
            "Requirement already satisfied: six>=1.10 in /usr/local/lib/python3.7/dist-packages (from kaggle) (1.15.0)\n",
            "Requirement already satisfied: urllib3 in /usr/local/lib/python3.7/dist-packages (from kaggle) (1.24.3)\n",
            "Requirement already satisfied: certifi in /usr/local/lib/python3.7/dist-packages (from kaggle) (2022.9.24)\n",
            "Requirement already satisfied: python-slugify in /usr/local/lib/python3.7/dist-packages (from kaggle) (6.1.2)\n",
            "Requirement already satisfied: text-unidecode>=1.3 in /usr/local/lib/python3.7/dist-packages (from python-slugify->kaggle) (1.3)\n",
            "Requirement already satisfied: idna<3,>=2.5 in /usr/local/lib/python3.7/dist-packages (from requests->kaggle) (2.10)\n",
            "Requirement already satisfied: chardet<4,>=3.0.2 in /usr/local/lib/python3.7/dist-packages (from requests->kaggle) (3.0.4)\n",
            "Looking in indexes: https://pypi.org/simple, https://us-python.pkg.dev/colab-wheels/public/simple/\n",
            "Collecting unzip\n",
            "  Downloading unzip-1.0.0.tar.gz (704 bytes)\n",
            "Building wheels for collected packages: unzip\n",
            "  Building wheel for unzip (setup.py) ... \u001b[?25l\u001b[?25hdone\n",
            "  Created wheel for unzip: filename=unzip-1.0.0-py3-none-any.whl size=1319 sha256=acbaea060c2db8774822d3b1b120c1b1c31d6a2efbdbc53a498e5b02ad58c402\n",
            "  Stored in directory: /root/.cache/pip/wheels/c5/05/b3/f7b36dbaaf76de31b718cde792c953bfd11d2414a72f204b56\n",
            "Successfully built unzip\n",
            "Installing collected packages: unzip\n",
            "Successfully installed unzip-1.0.0\n"
          ]
        }
      ]
    },
    {
      "cell_type": "markdown",
      "source": [
        "\n",
        "## Chuẩn bị dữ liệu\n",
        "Để truy cập được tệp data từ Kaggle, cần phải tạo key và cấu hình môi trường\n",
        "\n",
        "Ví dụ file secret key được tạo từ Kaggle và được lấy về từ github. Cách tạo key : https://prnt.sc/UCwb6zgoPzYT\n",
        "* Lưu ý: Kaggle yêu cầu xác thực tài khoản bằng số điện thoại để cấp cấp quyền truy cập dữ liệu."
      ],
      "metadata": {
        "id": "0BjFy9eTxfHk"
      }
    },
    {
      "cell_type": "markdown",
      "source": [
        "#### Import thư viện"
      ],
      "metadata": {
        "id": "9OiQ7FXePV7X"
      }
    },
    {
      "cell_type": "code",
      "source": [
        "import pandas as pd\n",
        "import matplotlib.pyplot as plt\n",
        "import datetime\n",
        "import itertools\n",
        "import statsmodels.api as sm # Statsmodels là một gói Python cho phép người dùng khám phá dữ liệu : https://www.statsmodels.org/stable/index.html\n",
        "\n",
        "import seaborn as sns # Dùng thêm lib này để vẽ biểu đồ cho đẹp ^.^\n",
        "%matplotlib inline\n",
        "\n",
        "# Load data\n",
        "train_raw_url = \"https://raw.githubusercontent.com/khanh22mse23057/kaggle-sales-dataset-train/main/superstore_sales.csv\"\n",
        "\n",
        "# Đọc dữ liệu từ file csv vào data frame\n",
        "train_sales = pd.read_csv(train_raw_url)\n",
        "\n",
        "train_sales.head()\n"
      ],
      "metadata": {
        "id": "S3-V3wLULniG",
        "colab": {
          "base_uri": "https://localhost:8080/",
          "height": 406
        },
        "outputId": "442d4c3d-e787-4451-bfdc-67673dfc0d31"
      },
      "execution_count": 2,
      "outputs": [
        {
          "output_type": "execute_result",
          "data": {
            "text/plain": [
              "   Row ID        Order ID  Order Date   Ship Date       Ship Mode Customer ID  \\\n",
              "0       1  CA-2017-152156  08/11/2017  11/11/2017    Second Class    CG-12520   \n",
              "1       2  CA-2017-152156  08/11/2017  11/11/2017    Second Class    CG-12520   \n",
              "2       3  CA-2017-138688  12/06/2017  16/06/2017    Second Class    DV-13045   \n",
              "3       4  US-2016-108966  11/10/2016  18/10/2016  Standard Class    SO-20335   \n",
              "4       5  US-2016-108966  11/10/2016  18/10/2016  Standard Class    SO-20335   \n",
              "\n",
              "     Customer Name    Segment        Country             City       State  \\\n",
              "0      Claire Gute   Consumer  United States        Henderson    Kentucky   \n",
              "1      Claire Gute   Consumer  United States        Henderson    Kentucky   \n",
              "2  Darrin Van Huff  Corporate  United States      Los Angeles  California   \n",
              "3   Sean O'Donnell   Consumer  United States  Fort Lauderdale     Florida   \n",
              "4   Sean O'Donnell   Consumer  United States  Fort Lauderdale     Florida   \n",
              "\n",
              "   Postal Code Region       Product ID         Category Sub-Category  \\\n",
              "0      42420.0  South  FUR-BO-10001798        Furniture    Bookcases   \n",
              "1      42420.0  South  FUR-CH-10000454        Furniture       Chairs   \n",
              "2      90036.0   West  OFF-LA-10000240  Office Supplies       Labels   \n",
              "3      33311.0  South  FUR-TA-10000577        Furniture       Tables   \n",
              "4      33311.0  South  OFF-ST-10000760  Office Supplies      Storage   \n",
              "\n",
              "                                        Product Name     Sales  \n",
              "0                  Bush Somerset Collection Bookcase  261.9600  \n",
              "1  Hon Deluxe Fabric Upholstered Stacking Chairs,...  731.9400  \n",
              "2  Self-Adhesive Address Labels for Typewriters b...   14.6200  \n",
              "3      Bretford CR4500 Series Slim Rectangular Table  957.5775  \n",
              "4                     Eldon Fold 'N Roll Cart System   22.3680  "
            ],
            "text/html": [
              "\n",
              "  <div id=\"df-4284324f-e80a-4391-bed4-2e5ec894179c\">\n",
              "    <div class=\"colab-df-container\">\n",
              "      <div>\n",
              "<style scoped>\n",
              "    .dataframe tbody tr th:only-of-type {\n",
              "        vertical-align: middle;\n",
              "    }\n",
              "\n",
              "    .dataframe tbody tr th {\n",
              "        vertical-align: top;\n",
              "    }\n",
              "\n",
              "    .dataframe thead th {\n",
              "        text-align: right;\n",
              "    }\n",
              "</style>\n",
              "<table border=\"1\" class=\"dataframe\">\n",
              "  <thead>\n",
              "    <tr style=\"text-align: right;\">\n",
              "      <th></th>\n",
              "      <th>Row ID</th>\n",
              "      <th>Order ID</th>\n",
              "      <th>Order Date</th>\n",
              "      <th>Ship Date</th>\n",
              "      <th>Ship Mode</th>\n",
              "      <th>Customer ID</th>\n",
              "      <th>Customer Name</th>\n",
              "      <th>Segment</th>\n",
              "      <th>Country</th>\n",
              "      <th>City</th>\n",
              "      <th>State</th>\n",
              "      <th>Postal Code</th>\n",
              "      <th>Region</th>\n",
              "      <th>Product ID</th>\n",
              "      <th>Category</th>\n",
              "      <th>Sub-Category</th>\n",
              "      <th>Product Name</th>\n",
              "      <th>Sales</th>\n",
              "    </tr>\n",
              "  </thead>\n",
              "  <tbody>\n",
              "    <tr>\n",
              "      <th>0</th>\n",
              "      <td>1</td>\n",
              "      <td>CA-2017-152156</td>\n",
              "      <td>08/11/2017</td>\n",
              "      <td>11/11/2017</td>\n",
              "      <td>Second Class</td>\n",
              "      <td>CG-12520</td>\n",
              "      <td>Claire Gute</td>\n",
              "      <td>Consumer</td>\n",
              "      <td>United States</td>\n",
              "      <td>Henderson</td>\n",
              "      <td>Kentucky</td>\n",
              "      <td>42420.0</td>\n",
              "      <td>South</td>\n",
              "      <td>FUR-BO-10001798</td>\n",
              "      <td>Furniture</td>\n",
              "      <td>Bookcases</td>\n",
              "      <td>Bush Somerset Collection Bookcase</td>\n",
              "      <td>261.9600</td>\n",
              "    </tr>\n",
              "    <tr>\n",
              "      <th>1</th>\n",
              "      <td>2</td>\n",
              "      <td>CA-2017-152156</td>\n",
              "      <td>08/11/2017</td>\n",
              "      <td>11/11/2017</td>\n",
              "      <td>Second Class</td>\n",
              "      <td>CG-12520</td>\n",
              "      <td>Claire Gute</td>\n",
              "      <td>Consumer</td>\n",
              "      <td>United States</td>\n",
              "      <td>Henderson</td>\n",
              "      <td>Kentucky</td>\n",
              "      <td>42420.0</td>\n",
              "      <td>South</td>\n",
              "      <td>FUR-CH-10000454</td>\n",
              "      <td>Furniture</td>\n",
              "      <td>Chairs</td>\n",
              "      <td>Hon Deluxe Fabric Upholstered Stacking Chairs,...</td>\n",
              "      <td>731.9400</td>\n",
              "    </tr>\n",
              "    <tr>\n",
              "      <th>2</th>\n",
              "      <td>3</td>\n",
              "      <td>CA-2017-138688</td>\n",
              "      <td>12/06/2017</td>\n",
              "      <td>16/06/2017</td>\n",
              "      <td>Second Class</td>\n",
              "      <td>DV-13045</td>\n",
              "      <td>Darrin Van Huff</td>\n",
              "      <td>Corporate</td>\n",
              "      <td>United States</td>\n",
              "      <td>Los Angeles</td>\n",
              "      <td>California</td>\n",
              "      <td>90036.0</td>\n",
              "      <td>West</td>\n",
              "      <td>OFF-LA-10000240</td>\n",
              "      <td>Office Supplies</td>\n",
              "      <td>Labels</td>\n",
              "      <td>Self-Adhesive Address Labels for Typewriters b...</td>\n",
              "      <td>14.6200</td>\n",
              "    </tr>\n",
              "    <tr>\n",
              "      <th>3</th>\n",
              "      <td>4</td>\n",
              "      <td>US-2016-108966</td>\n",
              "      <td>11/10/2016</td>\n",
              "      <td>18/10/2016</td>\n",
              "      <td>Standard Class</td>\n",
              "      <td>SO-20335</td>\n",
              "      <td>Sean O'Donnell</td>\n",
              "      <td>Consumer</td>\n",
              "      <td>United States</td>\n",
              "      <td>Fort Lauderdale</td>\n",
              "      <td>Florida</td>\n",
              "      <td>33311.0</td>\n",
              "      <td>South</td>\n",
              "      <td>FUR-TA-10000577</td>\n",
              "      <td>Furniture</td>\n",
              "      <td>Tables</td>\n",
              "      <td>Bretford CR4500 Series Slim Rectangular Table</td>\n",
              "      <td>957.5775</td>\n",
              "    </tr>\n",
              "    <tr>\n",
              "      <th>4</th>\n",
              "      <td>5</td>\n",
              "      <td>US-2016-108966</td>\n",
              "      <td>11/10/2016</td>\n",
              "      <td>18/10/2016</td>\n",
              "      <td>Standard Class</td>\n",
              "      <td>SO-20335</td>\n",
              "      <td>Sean O'Donnell</td>\n",
              "      <td>Consumer</td>\n",
              "      <td>United States</td>\n",
              "      <td>Fort Lauderdale</td>\n",
              "      <td>Florida</td>\n",
              "      <td>33311.0</td>\n",
              "      <td>South</td>\n",
              "      <td>OFF-ST-10000760</td>\n",
              "      <td>Office Supplies</td>\n",
              "      <td>Storage</td>\n",
              "      <td>Eldon Fold 'N Roll Cart System</td>\n",
              "      <td>22.3680</td>\n",
              "    </tr>\n",
              "  </tbody>\n",
              "</table>\n",
              "</div>\n",
              "      <button class=\"colab-df-convert\" onclick=\"convertToInteractive('df-4284324f-e80a-4391-bed4-2e5ec894179c')\"\n",
              "              title=\"Convert this dataframe to an interactive table.\"\n",
              "              style=\"display:none;\">\n",
              "        \n",
              "  <svg xmlns=\"http://www.w3.org/2000/svg\" height=\"24px\"viewBox=\"0 0 24 24\"\n",
              "       width=\"24px\">\n",
              "    <path d=\"M0 0h24v24H0V0z\" fill=\"none\"/>\n",
              "    <path d=\"M18.56 5.44l.94 2.06.94-2.06 2.06-.94-2.06-.94-.94-2.06-.94 2.06-2.06.94zm-11 1L8.5 8.5l.94-2.06 2.06-.94-2.06-.94L8.5 2.5l-.94 2.06-2.06.94zm10 10l.94 2.06.94-2.06 2.06-.94-2.06-.94-.94-2.06-.94 2.06-2.06.94z\"/><path d=\"M17.41 7.96l-1.37-1.37c-.4-.4-.92-.59-1.43-.59-.52 0-1.04.2-1.43.59L10.3 9.45l-7.72 7.72c-.78.78-.78 2.05 0 2.83L4 21.41c.39.39.9.59 1.41.59.51 0 1.02-.2 1.41-.59l7.78-7.78 2.81-2.81c.8-.78.8-2.07 0-2.86zM5.41 20L4 18.59l7.72-7.72 1.47 1.35L5.41 20z\"/>\n",
              "  </svg>\n",
              "      </button>\n",
              "      \n",
              "  <style>\n",
              "    .colab-df-container {\n",
              "      display:flex;\n",
              "      flex-wrap:wrap;\n",
              "      gap: 12px;\n",
              "    }\n",
              "\n",
              "    .colab-df-convert {\n",
              "      background-color: #E8F0FE;\n",
              "      border: none;\n",
              "      border-radius: 50%;\n",
              "      cursor: pointer;\n",
              "      display: none;\n",
              "      fill: #1967D2;\n",
              "      height: 32px;\n",
              "      padding: 0 0 0 0;\n",
              "      width: 32px;\n",
              "    }\n",
              "\n",
              "    .colab-df-convert:hover {\n",
              "      background-color: #E2EBFA;\n",
              "      box-shadow: 0px 1px 2px rgba(60, 64, 67, 0.3), 0px 1px 3px 1px rgba(60, 64, 67, 0.15);\n",
              "      fill: #174EA6;\n",
              "    }\n",
              "\n",
              "    [theme=dark] .colab-df-convert {\n",
              "      background-color: #3B4455;\n",
              "      fill: #D2E3FC;\n",
              "    }\n",
              "\n",
              "    [theme=dark] .colab-df-convert:hover {\n",
              "      background-color: #434B5C;\n",
              "      box-shadow: 0px 1px 3px 1px rgba(0, 0, 0, 0.15);\n",
              "      filter: drop-shadow(0px 1px 2px rgba(0, 0, 0, 0.3));\n",
              "      fill: #FFFFFF;\n",
              "    }\n",
              "  </style>\n",
              "\n",
              "      <script>\n",
              "        const buttonEl =\n",
              "          document.querySelector('#df-4284324f-e80a-4391-bed4-2e5ec894179c button.colab-df-convert');\n",
              "        buttonEl.style.display =\n",
              "          google.colab.kernel.accessAllowed ? 'block' : 'none';\n",
              "\n",
              "        async function convertToInteractive(key) {\n",
              "          const element = document.querySelector('#df-4284324f-e80a-4391-bed4-2e5ec894179c');\n",
              "          const dataTable =\n",
              "            await google.colab.kernel.invokeFunction('convertToInteractive',\n",
              "                                                     [key], {});\n",
              "          if (!dataTable) return;\n",
              "\n",
              "          const docLinkHtml = 'Like what you see? Visit the ' +\n",
              "            '<a target=\"_blank\" href=https://colab.research.google.com/notebooks/data_table.ipynb>data table notebook</a>'\n",
              "            + ' to learn more about interactive tables.';\n",
              "          element.innerHTML = '';\n",
              "          dataTable['output_type'] = 'display_data';\n",
              "          await google.colab.output.renderOutput(dataTable, element);\n",
              "          const docLink = document.createElement('div');\n",
              "          docLink.innerHTML = docLinkHtml;\n",
              "          element.appendChild(docLink);\n",
              "        }\n",
              "      </script>\n",
              "    </div>\n",
              "  </div>\n",
              "  "
            ]
          },
          "metadata": {},
          "execution_count": 2
        }
      ]
    },
    {
      "cell_type": "markdown",
      "source": [
        "#### Load dữ liệu"
      ],
      "metadata": {
        "id": "s3uYkj3XTcHb"
      }
    },
    {
      "cell_type": "markdown",
      "source": [
        "Tìm hiểu dữ liệu đầu vào"
      ],
      "metadata": {
        "id": "dCFTyP8ilCae"
      }
    },
    {
      "cell_type": "code",
      "source": [
        "print('-----------------------------train_sales-----------------------------------------')\n",
        "train_sales.info()\n",
        "\n",
        "print('-----------------------------Check Category--------------------------------------')\n",
        "train_sales['Category'].value_counts()\n",
        "print(train_sales['Category'].unique())\n",
        "\n",
        "print('-----------------------------Check Sub-Category--------------------------------------')\n",
        "print(train_sales['Sub-Category'].unique())\n",
        "no_of_subcategory=train_sales['Sub-Category'].nunique()\n",
        "print(\"Categories are divided into %d subcategories\"%no_of_subcategory)\n",
        "\n",
        "\n",
        "print('-----------------------------Check State--------------------------------------')\n",
        "print(train_sales['State'].unique())\n",
        "no_of_states=train_sales['State'].nunique()\n",
        "print(\"There are %d states in this df.\"%no_of_states)\n",
        "\n",
        "print('-----------------------------Check City--------------------------------------')\n",
        "print(train_sales['City'].unique())\n",
        "cities=train_sales['City'].nunique()\n",
        "print(\"There are %d city in this df.\"%cities)\n",
        "\n",
        "\n",
        "\n",
        "\n",
        "# train_sales['Segment'].value_counts()"
      ],
      "metadata": {
        "id": "1vgTCvTZP_uN",
        "colab": {
          "base_uri": "https://localhost:8080/"
        },
        "outputId": "ea8c87df-0060-42e7-a0fa-402058d96fb7"
      },
      "execution_count": 31,
      "outputs": [
        {
          "output_type": "stream",
          "name": "stdout",
          "text": [
            "-----------------------------train_sales-----------------------------------------\n",
            "<class 'pandas.core.frame.DataFrame'>\n",
            "RangeIndex: 9800 entries, 0 to 9799\n",
            "Data columns (total 19 columns):\n",
            " #   Column         Non-Null Count  Dtype          \n",
            "---  ------         --------------  -----          \n",
            " 0   Row ID         9800 non-null   int64          \n",
            " 1   Order ID       9800 non-null   object         \n",
            " 2   Order Date     9800 non-null   datetime64[ns] \n",
            " 3   Ship Date      9800 non-null   datetime64[ns] \n",
            " 4   Ship Mode      9800 non-null   object         \n",
            " 5   Customer ID    9800 non-null   object         \n",
            " 6   Customer Name  9800 non-null   object         \n",
            " 7   Segment        9800 non-null   object         \n",
            " 8   Country        9800 non-null   object         \n",
            " 9   City           9800 non-null   object         \n",
            " 10  State          9800 non-null   object         \n",
            " 11  Postal Code    9800 non-null   float64        \n",
            " 12  Region         9800 non-null   object         \n",
            " 13  Product ID     9800 non-null   object         \n",
            " 14  Category       9800 non-null   object         \n",
            " 15  Sub-Category   9800 non-null   object         \n",
            " 16  Product Name   9800 non-null   object         \n",
            " 17  Sales          9800 non-null   float64        \n",
            " 18  Delivery Time  9800 non-null   timedelta64[ns]\n",
            "dtypes: datetime64[ns](2), float64(2), int64(1), object(13), timedelta64[ns](1)\n",
            "memory usage: 1.4+ MB\n",
            "-----------------------------Check Category--------------------------------------\n",
            "['Furniture' 'Office Supplies' 'Technology']\n",
            "-----------------------------Check Sub-Category--------------------------------------\n",
            "['Bookcases' 'Chairs' 'Labels' 'Tables' 'Storage' 'Furnishings' 'Art'\n",
            " 'Phones' 'Binders' 'Appliances' 'Paper' 'Accessories' 'Envelopes'\n",
            " 'Fasteners' 'Supplies' 'Machines' 'Copiers']\n",
            "Categories are divided into 17 subcategories\n",
            "-----------------------------Check State--------------------------------------\n",
            "['Kentucky' 'California' 'Florida' 'North Carolina' 'Washington' 'Texas'\n",
            " 'Wisconsin' 'Utah' 'Nebraska' 'Pennsylvania' 'Illinois' 'Minnesota'\n",
            " 'Michigan' 'Delaware' 'Indiana' 'New York' 'Arizona' 'Virginia'\n",
            " 'Tennessee' 'Alabama' 'South Carolina' 'Oregon' 'Colorado' 'Iowa' 'Ohio'\n",
            " 'Missouri' 'Oklahoma' 'New Mexico' 'Louisiana' 'Connecticut' 'New Jersey'\n",
            " 'Massachusetts' 'Georgia' 'Nevada' 'Rhode Island' 'Mississippi'\n",
            " 'Arkansas' 'Montana' 'New Hampshire' 'Maryland' 'District of Columbia'\n",
            " 'Kansas' 'Vermont' 'Maine' 'South Dakota' 'Idaho' 'North Dakota'\n",
            " 'Wyoming' 'West Virginia']\n",
            "There are 49 states in this df.\n",
            "-----------------------------Check City--------------------------------------\n",
            "['Henderson' 'Los Angeles' 'Fort Lauderdale' 'Concord' 'Seattle'\n",
            " 'Fort Worth' 'Madison' 'West Jordan' 'San Francisco' 'Fremont'\n",
            " 'Philadelphia' 'Orem' 'Houston' 'Richardson' 'Naperville' 'Melbourne'\n",
            " 'Eagan' 'Westland' 'Dover' 'New Albany' 'New York City' 'Troy' 'Chicago'\n",
            " 'Gilbert' 'Springfield' 'Jackson' 'Memphis' 'Decatur' 'Durham' 'Columbia'\n",
            " 'Rochester' 'Minneapolis' 'Portland' 'Saint Paul' 'Aurora' 'Charlotte'\n",
            " 'Orland Park' 'Urbandale' 'Columbus' 'Bristol' 'Wilmington' 'Bloomington'\n",
            " 'Phoenix' 'Roseville' 'Independence' 'Pasadena' 'Newark' 'Franklin'\n",
            " 'Scottsdale' 'San Jose' 'Edmond' 'Carlsbad' 'San Antonio' 'Monroe'\n",
            " 'Fairfield' 'Grand Prairie' 'Redlands' 'Hamilton' 'Westfield' 'Akron'\n",
            " 'Denver' 'Dallas' 'Whittier' 'Saginaw' 'Medina' 'Dublin' 'Detroit'\n",
            " 'Tampa' 'Santa Clara' 'Lakeville' 'San Diego' 'Brentwood' 'Chapel Hill'\n",
            " 'Morristown' 'Cincinnati' 'Inglewood' 'Tamarac' 'Colorado Springs'\n",
            " 'Belleville' 'Taylor' 'Lakewood' 'Arlington' 'Arvada' 'Hackensack'\n",
            " 'Saint Petersburg' 'Long Beach' 'Hesperia' 'Murfreesboro' 'Layton'\n",
            " 'Austin' 'Lowell' 'Manchester' 'Harlingen' 'Tucson' 'Quincy'\n",
            " 'Pembroke Pines' 'Des Moines' 'Peoria' 'Las Vegas' 'Warwick' 'Miami'\n",
            " 'Huntington Beach' 'Richmond' 'Louisville' 'Lawrence' 'Canton'\n",
            " 'New Rochelle' 'Gastonia' 'Jacksonville' 'Auburn' 'Norman' 'Park Ridge'\n",
            " 'Amarillo' 'Lindenhurst' 'Huntsville' 'Fayetteville' 'Costa Mesa'\n",
            " 'Parker' 'Atlanta' 'Gladstone' 'Great Falls' 'Lakeland' 'Montgomery'\n",
            " 'Mesa' 'Green Bay' 'Anaheim' 'Marysville' 'Salem' 'Laredo' 'Grove City'\n",
            " 'Dearborn' 'Warner Robins' 'Vallejo' 'Mission Viejo' 'Rochester Hills'\n",
            " 'Plainfield' 'Sierra Vista' 'Vancouver' 'Cleveland' 'Tyler' 'Burlington'\n",
            " 'Waynesboro' 'Chester' 'Cary' 'Palm Coast' 'Mount Vernon' 'Hialeah'\n",
            " 'Oceanside' 'Evanston' 'Trenton' 'Cottage Grove' 'Bossier City'\n",
            " 'Lancaster' 'Asheville' 'Lake Elsinore' 'Omaha' 'Edmonds' 'Santa Ana'\n",
            " 'Milwaukee' 'Florence' 'Lorain' 'Linden' 'Salinas' 'New Brunswick'\n",
            " 'Garland' 'Norwich' 'Alexandria' 'Toledo' 'Farmington' 'Riverside'\n",
            " 'Torrance' 'Round Rock' 'Boca Raton' 'Virginia Beach' 'Murrieta'\n",
            " 'Olympia' 'Washington' 'Jefferson City' 'Saint Peters' 'Rockford'\n",
            " 'Brownsville' 'Yonkers' 'Oakland' 'Clinton' 'Encinitas' 'Roswell'\n",
            " 'Jonesboro' 'Antioch' 'Homestead' 'La Porte' 'Lansing' 'Cuyahoga Falls'\n",
            " 'Reno' 'Harrisonburg' 'Escondido' 'Royal Oak' 'Rockville' 'Coral Springs'\n",
            " 'Buffalo' 'Boynton Beach' 'Gulfport' 'Fresno' 'Greenville' 'Macon'\n",
            " 'Cedar Rapids' 'Providence' 'Pueblo' 'Deltona' 'Murray' 'Middletown'\n",
            " 'Freeport' 'Pico Rivera' 'Provo' 'Pleasant Grove' 'Smyrna' 'Parma'\n",
            " 'Mobile' 'New Bedford' 'Irving' 'Vineland' 'Glendale' 'Niagara Falls'\n",
            " 'Thomasville' 'Westminster' 'Coppell' 'Pomona' 'North Las Vegas'\n",
            " 'Allentown' 'Tempe' 'Laguna Niguel' 'Bridgeton' 'Everett' 'Watertown'\n",
            " 'Appleton' 'Bellevue' 'Allen' 'El Paso' 'Grapevine' 'Carrollton' 'Kent'\n",
            " 'Lafayette' 'Tigard' 'Skokie' 'Plano' 'Suffolk' 'Indianapolis' 'Bayonne'\n",
            " 'Greensboro' 'Baltimore' 'Kenosha' 'Olathe' 'Tulsa' 'Redmond' 'Raleigh'\n",
            " 'Muskogee' 'Meriden' 'Bowling Green' 'South Bend' 'Spokane' 'Keller'\n",
            " 'Port Orange' 'Medford' 'Charlottesville' 'Missoula' 'Apopka' 'Reading'\n",
            " 'Broomfield' 'Paterson' 'Oklahoma City' 'Chesapeake' 'Lubbock'\n",
            " 'Johnson City' 'San Bernardino' 'Leominster' 'Bozeman' 'Perth Amboy'\n",
            " 'Ontario' 'Rancho Cucamonga' 'Moorhead' 'Mesquite' 'Stockton'\n",
            " 'Ormond Beach' 'Sunnyvale' 'York' 'College Station' 'Saint Louis'\n",
            " 'Manteca' 'San Angelo' 'Salt Lake City' 'Knoxville' 'Little Rock'\n",
            " 'Lincoln Park' 'Marion' 'Littleton' 'Bangor' 'Southaven' 'New Castle'\n",
            " 'Midland' 'Sioux Falls' 'Fort Collins' 'Clarksville' 'Sacramento'\n",
            " 'Thousand Oaks' 'Malden' 'Holyoke' 'Albuquerque' 'Sparks' 'Coachella'\n",
            " 'Elmhurst' 'Passaic' 'North Charleston' 'Newport News' 'Jamestown'\n",
            " 'Mishawaka' 'La Quinta' 'Tallahassee' 'Nashville' 'Bellingham'\n",
            " 'Woodstock' 'Haltom City' 'Wheeling' 'Summerville' 'Hot Springs'\n",
            " 'Englewood' 'Las Cruces' 'Hoover' 'Frisco' 'Vacaville' 'Waukesha'\n",
            " 'Bakersfield' 'Pompano Beach' 'Corpus Christi' 'Redondo Beach' 'Orlando'\n",
            " 'Orange' 'Lake Charles' 'Highland Park' 'Hempstead' 'Noblesville'\n",
            " 'Apple Valley' 'Mount Pleasant' 'Sterling Heights' 'Eau Claire' 'Pharr'\n",
            " 'Billings' 'Gresham' 'Chattanooga' 'Meridian' 'Bolingbrook' 'Maple Grove'\n",
            " 'Woodland' 'Missouri City' 'Pearland' 'San Mateo' 'Grand Rapids'\n",
            " 'Visalia' 'Overland Park' 'Temecula' 'Yucaipa' 'Revere' 'Conroe'\n",
            " 'Tinley Park' 'Dubuque' 'Dearborn Heights' 'Santa Fe' 'Hickory'\n",
            " 'Carol Stream' 'Saint Cloud' 'North Miami' 'Plantation'\n",
            " 'Port Saint Lucie' 'Rock Hill' 'Odessa' 'West Allis' 'Chula Vista'\n",
            " 'Manhattan' 'Altoona' 'Thornton' 'Champaign' 'Texarkana' 'Edinburg'\n",
            " 'Baytown' 'Greenwood' 'Woonsocket' 'Superior' 'Bedford' 'Covington'\n",
            " 'Broken Arrow' 'Miramar' 'Hollywood' 'Deer Park' 'Wichita' 'Mcallen'\n",
            " 'Iowa City' 'Boise' 'Cranston' 'Port Arthur' 'Citrus Heights'\n",
            " 'The Colony' 'Daytona Beach' 'Bullhead City' 'Portage' 'Fargo' 'Elkhart'\n",
            " 'San Gabriel' 'Margate' 'Sandy Springs' 'Mentor' 'Lawton' 'Hampton'\n",
            " 'Rome' 'La Crosse' 'Lewiston' 'Hattiesburg' 'Danville' 'Logan'\n",
            " 'Waterbury' 'Athens' 'Avondale' 'Marietta' 'Yuma' 'Wausau' 'Pasco'\n",
            " 'Oak Park' 'Pensacola' 'League City' 'Gaithersburg' 'Lehi' 'Tuscaloosa'\n",
            " 'Moreno Valley' 'Georgetown' 'Loveland' 'Chandler' 'Helena' 'Kirkwood'\n",
            " 'Waco' 'Frankfort' 'Bethlehem' 'Grand Island' 'Woodbury' 'Rogers'\n",
            " 'Clovis' 'Jupiter' 'Santa Barbara' 'Cedar Hill' 'Norfolk' 'Draper'\n",
            " 'Ann Arbor' 'La Mesa' 'Pocatello' 'Holland' 'Milford' 'Buffalo Grove'\n",
            " 'Lake Forest' 'Redding' 'Chico' 'Utica' 'Conway' 'Cheyenne' 'Owensboro'\n",
            " 'Caldwell' 'Kenner' 'Nashua' 'Bartlett' 'Redwood City' 'Lebanon'\n",
            " 'Santa Maria' 'Des Plaines' 'Longview' 'Hendersonville' 'Waterloo'\n",
            " 'Cambridge' 'Palatine' 'Beverly' 'Eugene' 'Oxnard' 'Renton' 'Glenview'\n",
            " 'Delray Beach' 'Commerce City' 'Texas City' 'Wilson' 'Rio Rancho'\n",
            " 'Goldsboro' 'Montebello' 'El Cajon' 'Beaumont' 'West Palm Beach'\n",
            " 'Abilene' 'Normal' 'Saint Charles' 'Camarillo' 'Hillsboro' 'Burbank'\n",
            " 'Modesto' 'Garden City' 'Atlantic City' 'Longmont' 'Davis' 'Morgan Hill'\n",
            " 'Clifton' 'Sheboygan' 'East Point' 'Rapid City' 'Andover' 'Kissimmee'\n",
            " 'Shelton' 'Danbury' 'Sanford' 'San Marcos' 'Greeley' 'Mansfield' 'Elyria'\n",
            " 'Twin Falls' 'Coral Gables' 'Romeoville' 'Marlborough' 'Laurel' 'Bryan'\n",
            " 'Pine Bluff' 'Aberdeen' 'Hagerstown' 'East Orange' 'Arlington Heights'\n",
            " 'Oswego' 'Coon Rapids' 'San Clemente' 'San Luis Obispo' 'Springdale']\n",
            "There are 529 city in this df.\n"
          ]
        }
      ]
    },
    {
      "cell_type": "code",
      "source": [
        "train_sales.isnull().sum()"
      ],
      "metadata": {
        "colab": {
          "base_uri": "https://localhost:8080/"
        },
        "id": "xUYU8kaqi0vm",
        "outputId": "946f8632-e76c-48a1-bdbd-d3a4e68b85a7"
      },
      "execution_count": 4,
      "outputs": [
        {
          "output_type": "execute_result",
          "data": {
            "text/plain": [
              "Row ID            0\n",
              "Order ID          0\n",
              "Order Date        0\n",
              "Ship Date         0\n",
              "Ship Mode         0\n",
              "Customer ID       0\n",
              "Customer Name     0\n",
              "Segment           0\n",
              "Country           0\n",
              "City              0\n",
              "State             0\n",
              "Postal Code      11\n",
              "Region            0\n",
              "Product ID        0\n",
              "Category          0\n",
              "Sub-Category      0\n",
              "Product Name      0\n",
              "Sales             0\n",
              "dtype: int64"
            ]
          },
          "metadata": {},
          "execution_count": 4
        }
      ]
    },
    {
      "cell_type": "code",
      "source": [
        "train_sales.describe()"
      ],
      "metadata": {
        "colab": {
          "base_uri": "https://localhost:8080/",
          "height": 300
        },
        "id": "V9xxMJVqxKho",
        "outputId": "2c21aa15-98f0-42a7-fd41-b957486c377b"
      },
      "execution_count": 5,
      "outputs": [
        {
          "output_type": "execute_result",
          "data": {
            "text/plain": [
              "            Row ID   Postal Code         Sales\n",
              "count  9800.000000   9789.000000   9800.000000\n",
              "mean   4900.500000  55273.322403    230.769059\n",
              "std    2829.160653  32041.223413    626.651875\n",
              "min       1.000000   1040.000000      0.444000\n",
              "25%    2450.750000  23223.000000     17.248000\n",
              "50%    4900.500000  58103.000000     54.490000\n",
              "75%    7350.250000  90008.000000    210.605000\n",
              "max    9800.000000  99301.000000  22638.480000"
            ],
            "text/html": [
              "\n",
              "  <div id=\"df-b5951334-9e3e-4199-a855-26ee60ca378a\">\n",
              "    <div class=\"colab-df-container\">\n",
              "      <div>\n",
              "<style scoped>\n",
              "    .dataframe tbody tr th:only-of-type {\n",
              "        vertical-align: middle;\n",
              "    }\n",
              "\n",
              "    .dataframe tbody tr th {\n",
              "        vertical-align: top;\n",
              "    }\n",
              "\n",
              "    .dataframe thead th {\n",
              "        text-align: right;\n",
              "    }\n",
              "</style>\n",
              "<table border=\"1\" class=\"dataframe\">\n",
              "  <thead>\n",
              "    <tr style=\"text-align: right;\">\n",
              "      <th></th>\n",
              "      <th>Row ID</th>\n",
              "      <th>Postal Code</th>\n",
              "      <th>Sales</th>\n",
              "    </tr>\n",
              "  </thead>\n",
              "  <tbody>\n",
              "    <tr>\n",
              "      <th>count</th>\n",
              "      <td>9800.000000</td>\n",
              "      <td>9789.000000</td>\n",
              "      <td>9800.000000</td>\n",
              "    </tr>\n",
              "    <tr>\n",
              "      <th>mean</th>\n",
              "      <td>4900.500000</td>\n",
              "      <td>55273.322403</td>\n",
              "      <td>230.769059</td>\n",
              "    </tr>\n",
              "    <tr>\n",
              "      <th>std</th>\n",
              "      <td>2829.160653</td>\n",
              "      <td>32041.223413</td>\n",
              "      <td>626.651875</td>\n",
              "    </tr>\n",
              "    <tr>\n",
              "      <th>min</th>\n",
              "      <td>1.000000</td>\n",
              "      <td>1040.000000</td>\n",
              "      <td>0.444000</td>\n",
              "    </tr>\n",
              "    <tr>\n",
              "      <th>25%</th>\n",
              "      <td>2450.750000</td>\n",
              "      <td>23223.000000</td>\n",
              "      <td>17.248000</td>\n",
              "    </tr>\n",
              "    <tr>\n",
              "      <th>50%</th>\n",
              "      <td>4900.500000</td>\n",
              "      <td>58103.000000</td>\n",
              "      <td>54.490000</td>\n",
              "    </tr>\n",
              "    <tr>\n",
              "      <th>75%</th>\n",
              "      <td>7350.250000</td>\n",
              "      <td>90008.000000</td>\n",
              "      <td>210.605000</td>\n",
              "    </tr>\n",
              "    <tr>\n",
              "      <th>max</th>\n",
              "      <td>9800.000000</td>\n",
              "      <td>99301.000000</td>\n",
              "      <td>22638.480000</td>\n",
              "    </tr>\n",
              "  </tbody>\n",
              "</table>\n",
              "</div>\n",
              "      <button class=\"colab-df-convert\" onclick=\"convertToInteractive('df-b5951334-9e3e-4199-a855-26ee60ca378a')\"\n",
              "              title=\"Convert this dataframe to an interactive table.\"\n",
              "              style=\"display:none;\">\n",
              "        \n",
              "  <svg xmlns=\"http://www.w3.org/2000/svg\" height=\"24px\"viewBox=\"0 0 24 24\"\n",
              "       width=\"24px\">\n",
              "    <path d=\"M0 0h24v24H0V0z\" fill=\"none\"/>\n",
              "    <path d=\"M18.56 5.44l.94 2.06.94-2.06 2.06-.94-2.06-.94-.94-2.06-.94 2.06-2.06.94zm-11 1L8.5 8.5l.94-2.06 2.06-.94-2.06-.94L8.5 2.5l-.94 2.06-2.06.94zm10 10l.94 2.06.94-2.06 2.06-.94-2.06-.94-.94-2.06-.94 2.06-2.06.94z\"/><path d=\"M17.41 7.96l-1.37-1.37c-.4-.4-.92-.59-1.43-.59-.52 0-1.04.2-1.43.59L10.3 9.45l-7.72 7.72c-.78.78-.78 2.05 0 2.83L4 21.41c.39.39.9.59 1.41.59.51 0 1.02-.2 1.41-.59l7.78-7.78 2.81-2.81c.8-.78.8-2.07 0-2.86zM5.41 20L4 18.59l7.72-7.72 1.47 1.35L5.41 20z\"/>\n",
              "  </svg>\n",
              "      </button>\n",
              "      \n",
              "  <style>\n",
              "    .colab-df-container {\n",
              "      display:flex;\n",
              "      flex-wrap:wrap;\n",
              "      gap: 12px;\n",
              "    }\n",
              "\n",
              "    .colab-df-convert {\n",
              "      background-color: #E8F0FE;\n",
              "      border: none;\n",
              "      border-radius: 50%;\n",
              "      cursor: pointer;\n",
              "      display: none;\n",
              "      fill: #1967D2;\n",
              "      height: 32px;\n",
              "      padding: 0 0 0 0;\n",
              "      width: 32px;\n",
              "    }\n",
              "\n",
              "    .colab-df-convert:hover {\n",
              "      background-color: #E2EBFA;\n",
              "      box-shadow: 0px 1px 2px rgba(60, 64, 67, 0.3), 0px 1px 3px 1px rgba(60, 64, 67, 0.15);\n",
              "      fill: #174EA6;\n",
              "    }\n",
              "\n",
              "    [theme=dark] .colab-df-convert {\n",
              "      background-color: #3B4455;\n",
              "      fill: #D2E3FC;\n",
              "    }\n",
              "\n",
              "    [theme=dark] .colab-df-convert:hover {\n",
              "      background-color: #434B5C;\n",
              "      box-shadow: 0px 1px 3px 1px rgba(0, 0, 0, 0.15);\n",
              "      filter: drop-shadow(0px 1px 2px rgba(0, 0, 0, 0.3));\n",
              "      fill: #FFFFFF;\n",
              "    }\n",
              "  </style>\n",
              "\n",
              "      <script>\n",
              "        const buttonEl =\n",
              "          document.querySelector('#df-b5951334-9e3e-4199-a855-26ee60ca378a button.colab-df-convert');\n",
              "        buttonEl.style.display =\n",
              "          google.colab.kernel.accessAllowed ? 'block' : 'none';\n",
              "\n",
              "        async function convertToInteractive(key) {\n",
              "          const element = document.querySelector('#df-b5951334-9e3e-4199-a855-26ee60ca378a');\n",
              "          const dataTable =\n",
              "            await google.colab.kernel.invokeFunction('convertToInteractive',\n",
              "                                                     [key], {});\n",
              "          if (!dataTable) return;\n",
              "\n",
              "          const docLinkHtml = 'Like what you see? Visit the ' +\n",
              "            '<a target=\"_blank\" href=https://colab.research.google.com/notebooks/data_table.ipynb>data table notebook</a>'\n",
              "            + ' to learn more about interactive tables.';\n",
              "          element.innerHTML = '';\n",
              "          dataTable['output_type'] = 'display_data';\n",
              "          await google.colab.output.renderOutput(dataTable, element);\n",
              "          const docLink = document.createElement('div');\n",
              "          docLink.innerHTML = docLinkHtml;\n",
              "          element.appendChild(docLink);\n",
              "        }\n",
              "      </script>\n",
              "    </div>\n",
              "  </div>\n",
              "  "
            ]
          },
          "metadata": {},
          "execution_count": 5
        }
      ]
    },
    {
      "cell_type": "markdown",
      "source": [
        "==> Qua kết quả cho thấy dữ liệu OK ngoại trừ Postal Code có 11 dữ liệu ko tìm thấy trên tổng 9800 records"
      ],
      "metadata": {
        "id": "4ApK4TlVlsrc"
      }
    },
    {
      "cell_type": "code",
      "source": [
        "data = train_sales"
      ],
      "metadata": {
        "id": "CkA4HSiKx122"
      },
      "execution_count": 6,
      "outputs": []
    },
    {
      "cell_type": "markdown",
      "source": [
        "## Câu 1.Tiền xử lý dữ liệu \n",
        "(xử lý các trường hợp thiếu dữ liệu, chuẩn hóa ngày tháng, đơn vị,...)."
      ],
      "metadata": {
        "id": "54BLD0Q99aJn"
      }
    },
    {
      "cell_type": "code",
      "source": [
        "# Cleaning data\n",
        "data[\"Postal Code\"] = data[\"Postal Code\"].fillna(0)\n",
        "data[\"Order Date\"] = pd.to_datetime(data[\"Order Date\"], format=\"%d/%m/%Y\")\n",
        "data[\"Ship Date\"] = pd.to_datetime(data[\"Ship Date\"], format=\"%d/%m/%Y\")\n",
        "\n",
        "#formatting the date column correctly\n",
        "\n",
        "\n",
        "# data.Order_Date= data[\"Order Date\"].apply(lambda x:datetime.datetime.strptime(x, '%m/%d/%y'))\n",
        "# data.Ship_Date= data[\"Ship Date\"].apply(lambda x:datetime.datetime.strptime(x, '%m/%d/%y'))\n",
        "\n",
        "train_sales.info()"
      ],
      "metadata": {
        "id": "UamIbh4FkDRN",
        "colab": {
          "base_uri": "https://localhost:8080/"
        },
        "outputId": "13a6c21b-8323-4fa8-e0e1-595ac555f407"
      },
      "execution_count": 7,
      "outputs": [
        {
          "output_type": "stream",
          "name": "stdout",
          "text": [
            "<class 'pandas.core.frame.DataFrame'>\n",
            "RangeIndex: 9800 entries, 0 to 9799\n",
            "Data columns (total 18 columns):\n",
            " #   Column         Non-Null Count  Dtype         \n",
            "---  ------         --------------  -----         \n",
            " 0   Row ID         9800 non-null   int64         \n",
            " 1   Order ID       9800 non-null   object        \n",
            " 2   Order Date     9800 non-null   datetime64[ns]\n",
            " 3   Ship Date      9800 non-null   datetime64[ns]\n",
            " 4   Ship Mode      9800 non-null   object        \n",
            " 5   Customer ID    9800 non-null   object        \n",
            " 6   Customer Name  9800 non-null   object        \n",
            " 7   Segment        9800 non-null   object        \n",
            " 8   Country        9800 non-null   object        \n",
            " 9   City           9800 non-null   object        \n",
            " 10  State          9800 non-null   object        \n",
            " 11  Postal Code    9800 non-null   float64       \n",
            " 12  Region         9800 non-null   object        \n",
            " 13  Product ID     9800 non-null   object        \n",
            " 14  Category       9800 non-null   object        \n",
            " 15  Sub-Category   9800 non-null   object        \n",
            " 16  Product Name   9800 non-null   object        \n",
            " 17  Sales          9800 non-null   float64       \n",
            "dtypes: datetime64[ns](2), float64(2), int64(1), object(13)\n",
            "memory usage: 1.3+ MB\n"
          ]
        }
      ]
    },
    {
      "cell_type": "markdown",
      "source": [
        "## Câu 2.Vẽ biểu đồ thể hiện biến động doanh số theo tháng\n"
      ],
      "metadata": {
        "id": "9_lOEUIn9qat"
      }
    },
    {
      "cell_type": "code",
      "source": [
        "# Revenue by month\n",
        "revenue_by_month = data.groupby(pd.Grouper(key=\"Order Date\", freq=\"M\"))[\"Sales\"].sum().plot()\n",
        "revenue_by_month.set_xlabel(\"Month\")\n",
        "revenue_by_month.set_ylabel(\"Revenue (USD)\")"
      ],
      "metadata": {
        "id": "qzfoJCHF-YG3",
        "colab": {
          "base_uri": "https://localhost:8080/",
          "height": 308
        },
        "outputId": "955b16a8-12ad-4a8f-ed44-920f9fdd2703"
      },
      "execution_count": 8,
      "outputs": [
        {
          "output_type": "execute_result",
          "data": {
            "text/plain": [
              "Text(0, 0.5, 'Revenue (USD)')"
            ]
          },
          "metadata": {},
          "execution_count": 8
        },
        {
          "output_type": "display_data",
          "data": {
            "text/plain": [
              "<Figure size 432x288 with 1 Axes>"
            ],
            "image/png": "[encoded data removed]"
          },
          "metadata": {
            "needs_background": "light"
          }
        }
      ]
    },
    {
      "cell_type": "markdown",
      "source": [
        "Cho biết doanh thu trung bình trong 3 tháng gần nhất."
      ],
      "metadata": {
        "id": "jq3nq-XXlebU"
      }
    },
    {
      "cell_type": "code",
      "source": [
        "# Mean revenue in nearest 3 months\n",
        "mean_revenue = data.sort_values(by=\"Order Date\", ascending=True)\\\n",
        "    .set_index(\"Order Date\")\\\n",
        "    .last(\"3M\")[\"Sales\"].mean()\n",
        "\n",
        "print(\"Mean revenue in nearest 3 months: {} USD\".format(round(mean_revenue, 2)))"
      ],
      "metadata": {
        "colab": {
          "base_uri": "https://localhost:8080/"
        },
        "id": "iI_2gmjwkNOW",
        "outputId": "9c885d28-8d85-4df4-b0e9-ebacbbd4d591"
      },
      "execution_count": 9,
      "outputs": [
        {
          "output_type": "stream",
          "name": "stdout",
          "text": [
            "Mean revenue in nearest 3 months: 230.29 USD\n"
          ]
        }
      ]
    },
    {
      "cell_type": "markdown",
      "source": [
        "## Câu 3.Vẽ biểu đồ doanh số bán hàng theo quý \n"
      ],
      "metadata": {
        "id": "Gx6WcADK9v-C"
      }
    },
    {
      "cell_type": "code",
      "source": [
        "# Revenue by quarter\n",
        "revenue_by_quarter_data = data.groupby(pd.Grouper(key=\"Order Date\", freq=\"Q\"))[\"Sales\"].sum()\n",
        "revenue_by_quarter = revenue_by_quarter_data.plot()\n",
        "revenue_by_quarter.set_xlabel(\"Quarter\")\n",
        "revenue_by_quarter.set_ylabel(\"Revenue (USD)\")"
      ],
      "metadata": {
        "colab": {
          "base_uri": "https://localhost:8080/",
          "height": 296
        },
        "id": "c8IRglTTkRYR",
        "outputId": "889809cd-4878-44e7-9566-7c3778a7412f"
      },
      "execution_count": 10,
      "outputs": [
        {
          "output_type": "execute_result",
          "data": {
            "text/plain": [
              "Text(0, 0.5, 'Revenue (USD)')"
            ]
          },
          "metadata": {},
          "execution_count": 10
        },
        {
          "output_type": "display_data",
          "data": {
            "text/plain": [
              "<Figure size 432x288 with 1 Axes>"
            ],
            "image/png": "[encoded data removed]"
          },
          "metadata": {
            "needs_background": "light"
          }
        }
      ]
    },
    {
      "cell_type": "markdown",
      "source": [
        "#### Xác định quý nào có tổng doanh số cao nhất"
      ],
      "metadata": {
        "id": "rChNv83x-Qmy"
      }
    },
    {
      "cell_type": "code",
      "source": [
        "# Quarter with highest revenue\n",
        "highest_quarter = revenue_by_quarter_data.idxmax()\n",
        "highest_quarter_revenue = revenue_by_quarter_data[highest_quarter]\n",
        "\n",
        "print(\"Quarter with highest revenue: {} with {} USD\".format(highest_quarter, highest_quarter_revenue))"
      ],
      "metadata": {
        "colab": {
          "base_uri": "https://localhost:8080/"
        },
        "id": "qYzUbZS_ksJA",
        "outputId": "a020b1a8-bcd9-45b8-ef73-39382c5a2168"
      },
      "execution_count": 11,
      "outputs": [
        {
          "output_type": "stream",
          "name": "stdout",
          "text": [
            "Quarter with highest revenue: 2018-12-31 00:00:00 with 278416.675 USD\n"
          ]
        }
      ]
    },
    {
      "cell_type": "markdown",
      "source": [
        "## Câu 4.Tính thời gian trung giao hàng trung bình"
      ],
      "metadata": {
        "id": "LOcjEmhs9xh_"
      }
    },
    {
      "cell_type": "code",
      "source": [
        "# Mean delivery time\n",
        "data[\"Delivery Time\"] = data[\"Ship Date\"] - data[\"Order Date\"]\n",
        "mean_delivery_time_by_month = data.groupby(pd.Grouper(key=\"Order Date\", freq=\"M\"))[\"Delivery Time\"].mean().plot()\n",
        "mean_delivery_time_by_month.set_xlabel(\"Month\")\n",
        "mean_delivery_time_by_month.set_ylabel(\"Mean Delivery Time (Days)\")"
      ],
      "metadata": {
        "colab": {
          "base_uri": "https://localhost:8080/",
          "height": 319
        },
        "id": "ohK4Dzbdkw-8",
        "outputId": "a0440e84-a4f9-449e-df68-40a2e48fd757"
      },
      "execution_count": 12,
      "outputs": [
        {
          "output_type": "execute_result",
          "data": {
            "text/plain": [
              "Text(0, 0.5, 'Mean Delivery Time (Days)')"
            ]
          },
          "metadata": {},
          "execution_count": 12
        },
        {
          "output_type": "display_data",
          "data": {
            "text/plain": [
              "<Figure size 432x288 with 1 Axes>"
            ],
            "image/png": "[encoded data removed]"
          },
          "metadata": {
            "needs_background": "light"
          }
        }
      ]
    },
    {
      "cell_type": "markdown",
      "source": [
        "## Câu 5.Vẽ biểu đồ thể hiện sức mua theo từng thành phố"
      ],
      "metadata": {
        "id": "SRuVUxKk-eXJ"
      }
    },
    {
      "cell_type": "code",
      "source": [
        "# Revenue by City\n",
        "revenue_by_city_data = data.groupby(\"City\")[\"Sales\"].sum()\n",
        "revenue_by_city = revenue_by_city_data.plot()"
      ],
      "metadata": {
        "colab": {
          "base_uri": "https://localhost:8080/",
          "height": 279
        },
        "id": "RL4_cDUhk03a",
        "outputId": "6e7ef7c6-3c5b-4e36-b90f-38e9381034f4"
      },
      "execution_count": 13,
      "outputs": [
        {
          "output_type": "display_data",
          "data": {
            "text/plain": [
              "<Figure size 432x288 with 1 Axes>"
            ],
            "image/png": "[encoded data removed]"
          },
          "metadata": {
            "needs_background": "light"
          }
        }
      ]
    },
    {
      "cell_type": "markdown",
      "source": [
        "#### Xác định top 3 thành phố có doanh số thấp nhất\n"
      ],
      "metadata": {
        "id": "rr0s1knJ-4mS"
      }
    },
    {
      "cell_type": "code",
      "source": [
        "# Top 3 City with lowest revenue\n",
        "worst_sales_city = revenue_by_city_data.nsmallest(3)\n",
        "print(worst_sales_city)\n",
        "\n",
        "sns.barplot(x='City',y='Sales',data=revenue_by_city_data.nsmallest(3).reset_index())\n",
        "plt.xticks(rotation = 'vertical')"
      ],
      "metadata": {
        "colab": {
          "base_uri": "https://localhost:8080/",
          "height": 411
        },
        "id": "DCn-CIjnk3Y5",
        "outputId": "40e421ea-53aa-40cc-84fc-d9be3f88f740"
      },
      "execution_count": 14,
      "outputs": [
        {
          "output_type": "stream",
          "name": "stdout",
          "text": [
            "City\n",
            "Abilene    1.392\n",
            "Elyria     1.824\n",
            "Jupiter    2.064\n",
            "Name: Sales, dtype: float64\n"
          ]
        },
        {
          "output_type": "execute_result",
          "data": {
            "text/plain": [
              "(array([0, 1, 2]), <a list of 3 Text major ticklabel objects>)"
            ]
          },
          "metadata": {},
          "execution_count": 14
        },
        {
          "output_type": "display_data",
          "data": {
            "text/plain": [
              "<Figure size 432x288 with 1 Axes>"
            ],
            "image/png": "[encoded data removed]"
          },
          "metadata": {
            "needs_background": "light"
          }
        }
      ]
    },
    {
      "cell_type": "markdown",
      "source": [
        "#### Xác định Top 3 thành phố có doanh số cao nhất"
      ],
      "metadata": {
        "id": "pKnCgmzVl7ia"
      }
    },
    {
      "cell_type": "code",
      "source": [
        "# Top 3 City with highest revenue\n",
        "best_sales_cities = revenue_by_city_data.nlargest(3)\n",
        "print(best_sales_cities)\n",
        "\n",
        "sns.barplot(x='City',y='Sales',data=best_sales_cities.reset_index())\n",
        "plt.xticks(rotation = 'vertical')"
      ],
      "metadata": {
        "colab": {
          "base_uri": "https://localhost:8080/",
          "height": 441
        },
        "id": "z7wTTbBTk5QZ",
        "outputId": "8e2c813a-1af0-4f32-9766-a88b6a0c731c"
      },
      "execution_count": 15,
      "outputs": [
        {
          "output_type": "stream",
          "name": "stdout",
          "text": [
            "City\n",
            "New York City    252462.547\n",
            "Los Angeles      173420.181\n",
            "Seattle          116106.322\n",
            "Name: Sales, dtype: float64\n"
          ]
        },
        {
          "output_type": "execute_result",
          "data": {
            "text/plain": [
              "(array([0, 1, 2]), <a list of 3 Text major ticklabel objects>)"
            ]
          },
          "metadata": {},
          "execution_count": 15
        },
        {
          "output_type": "display_data",
          "data": {
            "text/plain": [
              "<Figure size 432x288 with 1 Axes>"
            ],
            "image/png": "[encoded data removed]"
          },
          "metadata": {
            "needs_background": "light"
          }
        }
      ]
    },
    {
      "cell_type": "markdown",
      "source": [
        "## Câu 6.Vẽ biểu đồ thể hiện tỉ trọng doanh số theo bang (state)"
      ],
      "metadata": {
        "id": "fVLSxM_J-mBT"
      }
    },
    {
      "cell_type": "code",
      "source": [
        "import matplotlib.patches as mpatches\n",
        "# Percentage of revenue by State\n",
        "revenue_by_state_data = data.groupby(\"State\")[\"Sales\"].sum()\n",
        "revenue_by_state_data.plot(kind=\"pie\")\n"
      ],
      "metadata": {
        "colab": {
          "base_uri": "https://localhost:8080/",
          "height": 265
        },
        "id": "IaAtIAGbk-Yp",
        "outputId": "0ace5c8e-f947-4b9e-8486-03838e2796c9"
      },
      "execution_count": 16,
      "outputs": [
        {
          "output_type": "execute_result",
          "data": {
            "text/plain": [
              "<matplotlib.axes._subplots.AxesSubplot at 0x7f895a4aa3d0>"
            ]
          },
          "metadata": {},
          "execution_count": 16
        },
        {
          "output_type": "display_data",
          "data": {
            "text/plain": [
              "<Figure size 432x288 with 1 Axes>"
            ],
            "image/png": "[encoded data removed]"
          },
          "metadata": {}
        }
      ]
    },
    {
      "cell_type": "code",
      "source": [
        "total = revenue_by_state_data.sum()\n",
        "total"
      ],
      "metadata": {
        "id": "3KhWN2q4tl0o",
        "outputId": "42d7b46b-aa4e-4782-992f-6eb696848ee4",
        "colab": {
          "base_uri": "https://localhost:8080/"
        }
      },
      "execution_count": 17,
      "outputs": [
        {
          "output_type": "execute_result",
          "data": {
            "text/plain": [
              "2261536.7827"
            ]
          },
          "metadata": {},
          "execution_count": 17
        }
      ]
    },
    {
      "cell_type": "code",
      "source": [
        "# width = 40\n",
        "# height=10\n",
        "# total= width * height\n",
        "\n",
        "# proportions = [(float(value) / total) for value in revenue_by_state_data['State']]\n",
        "# tiles_per_category = [round(proportion * total) for proportion in proportions]"
      ],
      "metadata": {
        "id": "sjgDDUrbzkhe"
      },
      "execution_count": 18,
      "outputs": []
    },
    {
      "cell_type": "markdown",
      "source": [
        "#### Xác định trung bình doanh số của 5 bang dẫn đầu về sức mua."
      ],
      "metadata": {
        "id": "v7DwHkYQ_E3G"
      }
    },
    {
      "cell_type": "code",
      "source": [
        "# Mean of top 5 state\n",
        "mean_sales_top_5_state = revenue_by_state_data.nlargest(5).mean()\n",
        "print(\"Mean of top 5 state: {}\".format(round(mean_sales_top_5_state, 2)))"
      ],
      "metadata": {
        "colab": {
          "base_uri": "https://localhost:8080/"
        },
        "id": "NNItXdfclCWf",
        "outputId": "5f61ed34-0215-4293-cf7f-594f1bae67bf"
      },
      "execution_count": 19,
      "outputs": [
        {
          "output_type": "stream",
          "name": "stdout",
          "text": [
            "Mean of top 5 state: 234544.73\n"
          ]
        }
      ]
    },
    {
      "cell_type": "markdown",
      "source": [
        "## Câu 7.Cho biết các bang dẫn đầu doanh số theo từng vùng\n",
        "(east, west, south, central,..)"
      ],
      "metadata": {
        "id": "xQKkJzdR-ndZ"
      }
    },
    {
      "cell_type": "code",
      "source": [
        "# Top states in revenue by Region\n",
        "revenue_by_region_state_data = data.groupby([\"Region\", \"State\"])[\"Sales\"].sum().reset_index()\n",
        "query_mask = revenue_by_region_state_data[\"Sales\"] == revenue_by_region_state_data.groupby(\"Region\")[\"Sales\"].transform(\"max\")\n",
        "print(revenue_by_region_state_data[query_mask])"
      ],
      "metadata": {
        "colab": {
          "base_uri": "https://localhost:8080/"
        },
        "id": "V_jHGI1WlJ7T",
        "outputId": "47488fc1-dbe6-40b4-e5c3-e176d464cda9"
      },
      "execution_count": 20,
      "outputs": [
        {
          "output_type": "stream",
          "name": "stdout",
          "text": [
            "     Region       State        Sales\n",
            "11  Central       Texas  168572.5322\n",
            "21     East    New York  306361.1470\n",
            "29    South     Florida   88436.5320\n",
            "39     West  California  446306.4635\n"
          ]
        }
      ]
    },
    {
      "cell_type": "markdown",
      "source": [
        "## Câu 8.Xác định top 3 sản phẩm có doanh thu cao nhất và top 3 sản phẩm có số lượng đơn vị bán ra cao nhất"
      ],
      "metadata": {
        "id": "WZaN17Fo-uQi"
      }
    },
    {
      "cell_type": "code",
      "source": [
        "# Top 3 products with highest revenue\n",
        "# Cách 1:\n",
        "sum_revenue_by_product = data.groupby([\"Product ID\", \"Product Name\"])[\"Sales\"].sum()\n",
        "print(sum_revenue_by_product.nlargest(3))"
      ],
      "metadata": {
        "colab": {
          "base_uri": "https://localhost:8080/"
        },
        "id": "8Q0vV-7jlOAR",
        "outputId": "81ff943e-2335-4973-c497-b51984696e8a"
      },
      "execution_count": 21,
      "outputs": [
        {
          "output_type": "stream",
          "name": "stdout",
          "text": [
            "Product ID       Product Name                                                               \n",
            "TEC-CO-10004722  Canon imageCLASS 2200 Advanced Copier                                          61599.824\n",
            "OFF-BI-10003527  Fellowes PB500 Electric Punch Plastic Comb Binding Machine with Manual Bind    27453.384\n",
            "TEC-MA-10002412  Cisco TelePresence System EX90 Videoconferencing Unit                          22638.480\n",
            "Name: Sales, dtype: float64\n"
          ]
        }
      ]
    },
    {
      "cell_type": "code",
      "source": [
        "#Cách 2:  => làm thêm\n",
        "# productSales = data.groupby('Product ID').agg({'Sales': 'sum'}).sort_values('Sales',ascending=False)[:3]\n",
        "\n",
        "# #Vẽ biểu đổ top 3 sản phẩm bán chạy\n",
        "# sns.barplot(x='Product ID',y='Sales',data=productSales.reset_index())\n",
        "# plt.xticks(rotation = 'vertical')"
      ],
      "metadata": {
        "id": "jK0W9mubnQo4"
      },
      "execution_count": 22,
      "outputs": []
    },
    {
      "cell_type": "code",
      "source": [
        "# Top 3 products with highest quantity\n",
        "count_revenue_by_product = data.groupby([\"Product ID\", \"Product Name\"])[\"Sales\"].count()\n",
        "print(count_revenue_by_product.nlargest(3))"
      ],
      "metadata": {
        "colab": {
          "base_uri": "https://localhost:8080/"
        },
        "id": "u-QxghKqlThg",
        "outputId": "9f3378ce-dbf0-412c-b467-b0902ce6ac81"
      },
      "execution_count": 23,
      "outputs": [
        {
          "output_type": "stream",
          "name": "stdout",
          "text": [
            "Product ID       Product Name                                             \n",
            "FUR-CH-10002647  Situations Contoured Folding Chairs, 4/Set                   15\n",
            "TEC-AC-10003628  Logitech 910-002974 M325 Wireless Mouse for Web Scrolling    15\n",
            "FUR-CH-10002880  Global High-Back Leather Tilter, Burgundy                    14\n",
            "Name: Sales, dtype: int64\n"
          ]
        }
      ]
    },
    {
      "cell_type": "markdown",
      "source": [
        "## Câu 9.Vẽ biểu đồ thể hiện tỉ trọng doanh số của từng category"
      ],
      "metadata": {
        "id": "WROx7dlW-v5_"
      }
    },
    {
      "cell_type": "code",
      "source": [
        "# Percentage of revenue by Category\n",
        "revenue_by_category_data = data.groupby(\"Category\")[\"Sales\"].sum()\n",
        "revenue_by_category_data.plot(kind=\"pie\")"
      ],
      "metadata": {
        "colab": {
          "base_uri": "https://localhost:8080/",
          "height": 265
        },
        "id": "a7vq-1fklWfr",
        "outputId": "139aafdf-e2a0-4ec0-f5ea-aa4a3b80e62b"
      },
      "execution_count": 24,
      "outputs": [
        {
          "output_type": "execute_result",
          "data": {
            "text/plain": [
              "<matplotlib.axes._subplots.AxesSubplot at 0x7f8959c5b250>"
            ]
          },
          "metadata": {},
          "execution_count": 24
        },
        {
          "output_type": "display_data",
          "data": {
            "text/plain": [
              "<Figure size 432x288 with 1 Axes>"
            ],
            "image/png": "[encoded data removed]"
          },
          "metadata": {}
        }
      ]
    },
    {
      "cell_type": "markdown",
      "source": [
        "## Câu 10.Dự báo doanh số theo nhiều khía cạnh khác nhau trong tương lai: \n",
        "theo vùng, theo bang, theo category"
      ],
      "metadata": {
        "id": "K3o-8ybA_a0a"
      }
    },
    {
      "cell_type": "code",
      "source": [
        "#Theo dữ liệu đầu vào, quan sát trên dữ liệu category\n",
        "# -----------------------------Check Category--------------------------------------\n",
        "# ['Furniture' 'Office Supplies' 'Technology']\n",
        "\n",
        "furniture = data.loc[data['Category']== 'Furniture']\n",
        "furniture.head()"
      ],
      "metadata": {
        "id": "6pDHTRhgG1pp",
        "outputId": "8a170cf0-9fa9-4a12-903c-40b9ffdf747f",
        "colab": {
          "base_uri": "https://localhost:8080/",
          "height": 441
        }
      },
      "execution_count": 37,
      "outputs": [
        {
          "output_type": "execute_result",
          "data": {
            "text/plain": [
              "    Row ID        Order ID Order Date  Ship Date       Ship Mode Customer ID  \\\n",
              "0        1  CA-2017-152156 2017-11-08 2017-11-11    Second Class    CG-12520   \n",
              "1        2  CA-2017-152156 2017-11-08 2017-11-11    Second Class    CG-12520   \n",
              "3        4  US-2016-108966 2016-10-11 2016-10-18  Standard Class    SO-20335   \n",
              "5        6  CA-2015-115812 2015-06-09 2015-06-14  Standard Class    BH-11710   \n",
              "10      11  CA-2015-115812 2015-06-09 2015-06-14  Standard Class    BH-11710   \n",
              "\n",
              "      Customer Name   Segment        Country             City       State  \\\n",
              "0       Claire Gute  Consumer  United States        Henderson    Kentucky   \n",
              "1       Claire Gute  Consumer  United States        Henderson    Kentucky   \n",
              "3    Sean O'Donnell  Consumer  United States  Fort Lauderdale     Florida   \n",
              "5   Brosina Hoffman  Consumer  United States      Los Angeles  California   \n",
              "10  Brosina Hoffman  Consumer  United States      Los Angeles  California   \n",
              "\n",
              "    Postal Code Region       Product ID   Category Sub-Category  \\\n",
              "0       42420.0  South  FUR-BO-10001798  Furniture    Bookcases   \n",
              "1       42420.0  South  FUR-CH-10000454  Furniture       Chairs   \n",
              "3       33311.0  South  FUR-TA-10000577  Furniture       Tables   \n",
              "5       90032.0   West  FUR-FU-10001487  Furniture  Furnishings   \n",
              "10      90032.0   West  FUR-TA-10001539  Furniture       Tables   \n",
              "\n",
              "                                         Product Name      Sales Delivery Time  \n",
              "0                   Bush Somerset Collection Bookcase   261.9600        3 days  \n",
              "1   Hon Deluxe Fabric Upholstered Stacking Chairs,...   731.9400        3 days  \n",
              "3       Bretford CR4500 Series Slim Rectangular Table   957.5775        7 days  \n",
              "5   Eldon Expressions Wood and Plastic Desk Access...    48.8600        5 days  \n",
              "10           Chromcraft Rectangular Conference Tables  1706.1840        5 days  "
            ],
            "text/html": [
              "\n",
              "  <div id=\"df-8b11942c-ce0f-4b15-b9dd-2cd9d7fb2769\">\n",
              "    <div class=\"colab-df-container\">\n",
              "      <div>\n",
              "<style scoped>\n",
              "    .dataframe tbody tr th:only-of-type {\n",
              "        vertical-align: middle;\n",
              "    }\n",
              "\n",
              "    .dataframe tbody tr th {\n",
              "        vertical-align: top;\n",
              "    }\n",
              "\n",
              "    .dataframe thead th {\n",
              "        text-align: right;\n",
              "    }\n",
              "</style>\n",
              "<table border=\"1\" class=\"dataframe\">\n",
              "  <thead>\n",
              "    <tr style=\"text-align: right;\">\n",
              "      <th></th>\n",
              "      <th>Row ID</th>\n",
              "      <th>Order ID</th>\n",
              "      <th>Order Date</th>\n",
              "      <th>Ship Date</th>\n",
              "      <th>Ship Mode</th>\n",
              "      <th>Customer ID</th>\n",
              "      <th>Customer Name</th>\n",
              "      <th>Segment</th>\n",
              "      <th>Country</th>\n",
              "      <th>City</th>\n",
              "      <th>State</th>\n",
              "      <th>Postal Code</th>\n",
              "      <th>Region</th>\n",
              "      <th>Product ID</th>\n",
              "      <th>Category</th>\n",
              "      <th>Sub-Category</th>\n",
              "      <th>Product Name</th>\n",
              "      <th>Sales</th>\n",
              "      <th>Delivery Time</th>\n",
              "    </tr>\n",
              "  </thead>\n",
              "  <tbody>\n",
              "    <tr>\n",
              "      <th>0</th>\n",
              "      <td>1</td>\n",
              "      <td>CA-2017-152156</td>\n",
              "      <td>2017-11-08</td>\n",
              "      <td>2017-11-11</td>\n",
              "      <td>Second Class</td>\n",
              "      <td>CG-12520</td>\n",
              "      <td>Claire Gute</td>\n",
              "      <td>Consumer</td>\n",
              "      <td>United States</td>\n",
              "      <td>Henderson</td>\n",
              "      <td>Kentucky</td>\n",
              "      <td>42420.0</td>\n",
              "      <td>South</td>\n",
              "      <td>FUR-BO-10001798</td>\n",
              "      <td>Furniture</td>\n",
              "      <td>Bookcases</td>\n",
              "      <td>Bush Somerset Collection Bookcase</td>\n",
              "      <td>261.9600</td>\n",
              "      <td>3 days</td>\n",
              "    </tr>\n",
              "    <tr>\n",
              "      <th>1</th>\n",
              "      <td>2</td>\n",
              "      <td>CA-2017-152156</td>\n",
              "      <td>2017-11-08</td>\n",
              "      <td>2017-11-11</td>\n",
              "      <td>Second Class</td>\n",
              "      <td>CG-12520</td>\n",
              "      <td>Claire Gute</td>\n",
              "      <td>Consumer</td>\n",
              "      <td>United States</td>\n",
              "      <td>Henderson</td>\n",
              "      <td>Kentucky</td>\n",
              "      <td>42420.0</td>\n",
              "      <td>South</td>\n",
              "      <td>FUR-CH-10000454</td>\n",
              "      <td>Furniture</td>\n",
              "      <td>Chairs</td>\n",
              "      <td>Hon Deluxe Fabric Upholstered Stacking Chairs,...</td>\n",
              "      <td>731.9400</td>\n",
              "      <td>3 days</td>\n",
              "    </tr>\n",
              "    <tr>\n",
              "      <th>3</th>\n",
              "      <td>4</td>\n",
              "      <td>US-2016-108966</td>\n",
              "      <td>2016-10-11</td>\n",
              "      <td>2016-10-18</td>\n",
              "      <td>Standard Class</td>\n",
              "      <td>SO-20335</td>\n",
              "      <td>Sean O'Donnell</td>\n",
              "      <td>Consumer</td>\n",
              "      <td>United States</td>\n",
              "      <td>Fort Lauderdale</td>\n",
              "      <td>Florida</td>\n",
              "      <td>33311.0</td>\n",
              "      <td>South</td>\n",
              "      <td>FUR-TA-10000577</td>\n",
              "      <td>Furniture</td>\n",
              "      <td>Tables</td>\n",
              "      <td>Bretford CR4500 Series Slim Rectangular Table</td>\n",
              "      <td>957.5775</td>\n",
              "      <td>7 days</td>\n",
              "    </tr>\n",
              "    <tr>\n",
              "      <th>5</th>\n",
              "      <td>6</td>\n",
              "      <td>CA-2015-115812</td>\n",
              "      <td>2015-06-09</td>\n",
              "      <td>2015-06-14</td>\n",
              "      <td>Standard Class</td>\n",
              "      <td>BH-11710</td>\n",
              "      <td>Brosina Hoffman</td>\n",
              "      <td>Consumer</td>\n",
              "      <td>United States</td>\n",
              "      <td>Los Angeles</td>\n",
              "      <td>California</td>\n",
              "      <td>90032.0</td>\n",
              "      <td>West</td>\n",
              "      <td>FUR-FU-10001487</td>\n",
              "      <td>Furniture</td>\n",
              "      <td>Furnishings</td>\n",
              "      <td>Eldon Expressions Wood and Plastic Desk Access...</td>\n",
              "      <td>48.8600</td>\n",
              "      <td>5 days</td>\n",
              "    </tr>\n",
              "    <tr>\n",
              "      <th>10</th>\n",
              "      <td>11</td>\n",
              "      <td>CA-2015-115812</td>\n",
              "      <td>2015-06-09</td>\n",
              "      <td>2015-06-14</td>\n",
              "      <td>Standard Class</td>\n",
              "      <td>BH-11710</td>\n",
              "      <td>Brosina Hoffman</td>\n",
              "      <td>Consumer</td>\n",
              "      <td>United States</td>\n",
              "      <td>Los Angeles</td>\n",
              "      <td>California</td>\n",
              "      <td>90032.0</td>\n",
              "      <td>West</td>\n",
              "      <td>FUR-TA-10001539</td>\n",
              "      <td>Furniture</td>\n",
              "      <td>Tables</td>\n",
              "      <td>Chromcraft Rectangular Conference Tables</td>\n",
              "      <td>1706.1840</td>\n",
              "      <td>5 days</td>\n",
              "    </tr>\n",
              "  </tbody>\n",
              "</table>\n",
              "</div>\n",
              "      <button class=\"colab-df-convert\" onclick=\"convertToInteractive('df-8b11942c-ce0f-4b15-b9dd-2cd9d7fb2769')\"\n",
              "              title=\"Convert this dataframe to an interactive table.\"\n",
              "              style=\"display:none;\">\n",
              "        \n",
              "  <svg xmlns=\"http://www.w3.org/2000/svg\" height=\"24px\"viewBox=\"0 0 24 24\"\n",
              "       width=\"24px\">\n",
              "    <path d=\"M0 0h24v24H0V0z\" fill=\"none\"/>\n",
              "    <path d=\"M18.56 5.44l.94 2.06.94-2.06 2.06-.94-2.06-.94-.94-2.06-.94 2.06-2.06.94zm-11 1L8.5 8.5l.94-2.06 2.06-.94-2.06-.94L8.5 2.5l-.94 2.06-2.06.94zm10 10l.94 2.06.94-2.06 2.06-.94-2.06-.94-.94-2.06-.94 2.06-2.06.94z\"/><path d=\"M17.41 7.96l-1.37-1.37c-.4-.4-.92-.59-1.43-.59-.52 0-1.04.2-1.43.59L10.3 9.45l-7.72 7.72c-.78.78-.78 2.05 0 2.83L4 21.41c.39.39.9.59 1.41.59.51 0 1.02-.2 1.41-.59l7.78-7.78 2.81-2.81c.8-.78.8-2.07 0-2.86zM5.41 20L4 18.59l7.72-7.72 1.47 1.35L5.41 20z\"/>\n",
              "  </svg>\n",
              "      </button>\n",
              "      \n",
              "  <style>\n",
              "    .colab-df-container {\n",
              "      display:flex;\n",
              "      flex-wrap:wrap;\n",
              "      gap: 12px;\n",
              "    }\n",
              "\n",
              "    .colab-df-convert {\n",
              "      background-color: #E8F0FE;\n",
              "      border: none;\n",
              "      border-radius: 50%;\n",
              "      cursor: pointer;\n",
              "      display: none;\n",
              "      fill: #1967D2;\n",
              "      height: 32px;\n",
              "      padding: 0 0 0 0;\n",
              "      width: 32px;\n",
              "    }\n",
              "\n",
              "    .colab-df-convert:hover {\n",
              "      background-color: #E2EBFA;\n",
              "      box-shadow: 0px 1px 2px rgba(60, 64, 67, 0.3), 0px 1px 3px 1px rgba(60, 64, 67, 0.15);\n",
              "      fill: #174EA6;\n",
              "    }\n",
              "\n",
              "    [theme=dark] .colab-df-convert {\n",
              "      background-color: #3B4455;\n",
              "      fill: #D2E3FC;\n",
              "    }\n",
              "\n",
              "    [theme=dark] .colab-df-convert:hover {\n",
              "      background-color: #434B5C;\n",
              "      box-shadow: 0px 1px 3px 1px rgba(0, 0, 0, 0.15);\n",
              "      filter: drop-shadow(0px 1px 2px rgba(0, 0, 0, 0.3));\n",
              "      fill: #FFFFFF;\n",
              "    }\n",
              "  </style>\n",
              "\n",
              "      <script>\n",
              "        const buttonEl =\n",
              "          document.querySelector('#df-8b11942c-ce0f-4b15-b9dd-2cd9d7fb2769 button.colab-df-convert');\n",
              "        buttonEl.style.display =\n",
              "          google.colab.kernel.accessAllowed ? 'block' : 'none';\n",
              "\n",
              "        async function convertToInteractive(key) {\n",
              "          const element = document.querySelector('#df-8b11942c-ce0f-4b15-b9dd-2cd9d7fb2769');\n",
              "          const dataTable =\n",
              "            await google.colab.kernel.invokeFunction('convertToInteractive',\n",
              "                                                     [key], {});\n",
              "          if (!dataTable) return;\n",
              "\n",
              "          const docLinkHtml = 'Like what you see? Visit the ' +\n",
              "            '<a target=\"_blank\" href=https://colab.research.google.com/notebooks/data_table.ipynb>data table notebook</a>'\n",
              "            + ' to learn more about interactive tables.';\n",
              "          element.innerHTML = '';\n",
              "          dataTable['output_type'] = 'display_data';\n",
              "          await google.colab.output.renderOutput(dataTable, element);\n",
              "          const docLink = document.createElement('div');\n",
              "          docLink.innerHTML = docLinkHtml;\n",
              "          element.appendChild(docLink);\n",
              "        }\n",
              "      </script>\n",
              "    </div>\n",
              "  </div>\n",
              "  "
            ]
          },
          "metadata": {},
          "execution_count": 37
        }
      ]
    },
    {
      "cell_type": "code",
      "source": [
        "furniture.columns\n"
      ],
      "metadata": {
        "id": "JPlvtA3YItuc",
        "outputId": "bb94fac9-1d16-40ab-c559-c6424e0042b4",
        "colab": {
          "base_uri": "https://localhost:8080/"
        }
      },
      "execution_count": 39,
      "outputs": [
        {
          "output_type": "execute_result",
          "data": {
            "text/plain": [
              "Index(['Row ID', 'Order ID', 'Order Date', 'Ship Date', 'Ship Mode',\n",
              "       'Customer ID', 'Customer Name', 'Segment', 'Country', 'City', 'State',\n",
              "       'Postal Code', 'Region', 'Product ID', 'Category', 'Sub-Category',\n",
              "       'Product Name', 'Sales', 'Delivery Time'],\n",
              "      dtype='object')"
            ]
          },
          "metadata": {},
          "execution_count": 39
        }
      ]
    },
    {
      "cell_type": "code",
      "source": [
        "r_col = ['Row ID', 'Order ID', 'Ship Date', 'Ship Mode',\n",
        "       'Customer ID', 'Customer Name', 'Segment', 'Country', 'City', 'State',\n",
        "       'Postal Code', 'Region', 'Product ID', 'Category', 'Sub-Category',\n",
        "       'Product Name',  'Delivery Time']\n",
        "\n",
        "furniture.drop(r_col, axis =1, inplace=True)"
      ],
      "metadata": {
        "id": "G1z0F4EdI3uZ",
        "outputId": "d4d5dd99-424f-4b9b-c190-eb1e8b1d4304",
        "colab": {
          "base_uri": "https://localhost:8080/"
        }
      },
      "execution_count": 40,
      "outputs": [
        {
          "output_type": "stream",
          "name": "stderr",
          "text": [
            "/usr/local/lib/python3.7/dist-packages/pandas/core/frame.py:4913: SettingWithCopyWarning: \n",
            "A value is trying to be set on a copy of a slice from a DataFrame\n",
            "\n",
            "See the caveats in the documentation: https://pandas.pydata.org/pandas-docs/stable/user_guide/indexing.html#returning-a-view-versus-a-copy\n",
            "  errors=errors,\n"
          ]
        }
      ]
    },
    {
      "cell_type": "code",
      "source": [
        "furniture"
      ],
      "metadata": {
        "id": "In1sH-pyJK0H",
        "outputId": "c33639dc-f574-467b-c47b-cabddb76b5f2",
        "colab": {
          "base_uri": "https://localhost:8080/",
          "height": 424
        }
      },
      "execution_count": 41,
      "outputs": [
        {
          "output_type": "execute_result",
          "data": {
            "text/plain": [
              "     Order Date      Sales\n",
              "0    2017-11-08   261.9600\n",
              "1    2017-11-08   731.9400\n",
              "3    2016-10-11   957.5775\n",
              "5    2015-06-09    48.8600\n",
              "10   2015-06-09  1706.1840\n",
              "...         ...        ...\n",
              "9786 2015-11-05   149.9000\n",
              "9787 2018-03-27  1023.3320\n",
              "9788 2018-03-27   600.5580\n",
              "9790 2018-03-27   211.2460\n",
              "9792 2015-05-21   107.7720\n",
              "\n",
              "[2078 rows x 2 columns]"
            ],
            "text/html": [
              "\n",
              "  <div id=\"df-2cf10535-047d-40e8-ba57-1ed32737d7c3\">\n",
              "    <div class=\"colab-df-container\">\n",
              "      <div>\n",
              "<style scoped>\n",
              "    .dataframe tbody tr th:only-of-type {\n",
              "        vertical-align: middle;\n",
              "    }\n",
              "\n",
              "    .dataframe tbody tr th {\n",
              "        vertical-align: top;\n",
              "    }\n",
              "\n",
              "    .dataframe thead th {\n",
              "        text-align: right;\n",
              "    }\n",
              "</style>\n",
              "<table border=\"1\" class=\"dataframe\">\n",
              "  <thead>\n",
              "    <tr style=\"text-align: right;\">\n",
              "      <th></th>\n",
              "      <th>Order Date</th>\n",
              "      <th>Sales</th>\n",
              "    </tr>\n",
              "  </thead>\n",
              "  <tbody>\n",
              "    <tr>\n",
              "      <th>0</th>\n",
              "      <td>2017-11-08</td>\n",
              "      <td>261.9600</td>\n",
              "    </tr>\n",
              "    <tr>\n",
              "      <th>1</th>\n",
              "      <td>2017-11-08</td>\n",
              "      <td>731.9400</td>\n",
              "    </tr>\n",
              "    <tr>\n",
              "      <th>3</th>\n",
              "      <td>2016-10-11</td>\n",
              "      <td>957.5775</td>\n",
              "    </tr>\n",
              "    <tr>\n",
              "      <th>5</th>\n",
              "      <td>2015-06-09</td>\n",
              "      <td>48.8600</td>\n",
              "    </tr>\n",
              "    <tr>\n",
              "      <th>10</th>\n",
              "      <td>2015-06-09</td>\n",
              "      <td>1706.1840</td>\n",
              "    </tr>\n",
              "    <tr>\n",
              "      <th>...</th>\n",
              "      <td>...</td>\n",
              "      <td>...</td>\n",
              "    </tr>\n",
              "    <tr>\n",
              "      <th>9786</th>\n",
              "      <td>2015-11-05</td>\n",
              "      <td>149.9000</td>\n",
              "    </tr>\n",
              "    <tr>\n",
              "      <th>9787</th>\n",
              "      <td>2018-03-27</td>\n",
              "      <td>1023.3320</td>\n",
              "    </tr>\n",
              "    <tr>\n",
              "      <th>9788</th>\n",
              "      <td>2018-03-27</td>\n",
              "      <td>600.5580</td>\n",
              "    </tr>\n",
              "    <tr>\n",
              "      <th>9790</th>\n",
              "      <td>2018-03-27</td>\n",
              "      <td>211.2460</td>\n",
              "    </tr>\n",
              "    <tr>\n",
              "      <th>9792</th>\n",
              "      <td>2015-05-21</td>\n",
              "      <td>107.7720</td>\n",
              "    </tr>\n",
              "  </tbody>\n",
              "</table>\n",
              "<p>2078 rows × 2 columns</p>\n",
              "</div>\n",
              "      <button class=\"colab-df-convert\" onclick=\"convertToInteractive('df-2cf10535-047d-40e8-ba57-1ed32737d7c3')\"\n",
              "              title=\"Convert this dataframe to an interactive table.\"\n",
              "              style=\"display:none;\">\n",
              "        \n",
              "  <svg xmlns=\"http://www.w3.org/2000/svg\" height=\"24px\"viewBox=\"0 0 24 24\"\n",
              "       width=\"24px\">\n",
              "    <path d=\"M0 0h24v24H0V0z\" fill=\"none\"/>\n",
              "    <path d=\"M18.56 5.44l.94 2.06.94-2.06 2.06-.94-2.06-.94-.94-2.06-.94 2.06-2.06.94zm-11 1L8.5 8.5l.94-2.06 2.06-.94-2.06-.94L8.5 2.5l-.94 2.06-2.06.94zm10 10l.94 2.06.94-2.06 2.06-.94-2.06-.94-.94-2.06-.94 2.06-2.06.94z\"/><path d=\"M17.41 7.96l-1.37-1.37c-.4-.4-.92-.59-1.43-.59-.52 0-1.04.2-1.43.59L10.3 9.45l-7.72 7.72c-.78.78-.78 2.05 0 2.83L4 21.41c.39.39.9.59 1.41.59.51 0 1.02-.2 1.41-.59l7.78-7.78 2.81-2.81c.8-.78.8-2.07 0-2.86zM5.41 20L4 18.59l7.72-7.72 1.47 1.35L5.41 20z\"/>\n",
              "  </svg>\n",
              "      </button>\n",
              "      \n",
              "  <style>\n",
              "    .colab-df-container {\n",
              "      display:flex;\n",
              "      flex-wrap:wrap;\n",
              "      gap: 12px;\n",
              "    }\n",
              "\n",
              "    .colab-df-convert {\n",
              "      background-color: #E8F0FE;\n",
              "      border: none;\n",
              "      border-radius: 50%;\n",
              "      cursor: pointer;\n",
              "      display: none;\n",
              "      fill: #1967D2;\n",
              "      height: 32px;\n",
              "      padding: 0 0 0 0;\n",
              "      width: 32px;\n",
              "    }\n",
              "\n",
              "    .colab-df-convert:hover {\n",
              "      background-color: #E2EBFA;\n",
              "      box-shadow: 0px 1px 2px rgba(60, 64, 67, 0.3), 0px 1px 3px 1px rgba(60, 64, 67, 0.15);\n",
              "      fill: #174EA6;\n",
              "    }\n",
              "\n",
              "    [theme=dark] .colab-df-convert {\n",
              "      background-color: #3B4455;\n",
              "      fill: #D2E3FC;\n",
              "    }\n",
              "\n",
              "    [theme=dark] .colab-df-convert:hover {\n",
              "      background-color: #434B5C;\n",
              "      box-shadow: 0px 1px 3px 1px rgba(0, 0, 0, 0.15);\n",
              "      filter: drop-shadow(0px 1px 2px rgba(0, 0, 0, 0.3));\n",
              "      fill: #FFFFFF;\n",
              "    }\n",
              "  </style>\n",
              "\n",
              "      <script>\n",
              "        const buttonEl =\n",
              "          document.querySelector('#df-2cf10535-047d-40e8-ba57-1ed32737d7c3 button.colab-df-convert');\n",
              "        buttonEl.style.display =\n",
              "          google.colab.kernel.accessAllowed ? 'block' : 'none';\n",
              "\n",
              "        async function convertToInteractive(key) {\n",
              "          const element = document.querySelector('#df-2cf10535-047d-40e8-ba57-1ed32737d7c3');\n",
              "          const dataTable =\n",
              "            await google.colab.kernel.invokeFunction('convertToInteractive',\n",
              "                                                     [key], {});\n",
              "          if (!dataTable) return;\n",
              "\n",
              "          const docLinkHtml = 'Like what you see? Visit the ' +\n",
              "            '<a target=\"_blank\" href=https://colab.research.google.com/notebooks/data_table.ipynb>data table notebook</a>'\n",
              "            + ' to learn more about interactive tables.';\n",
              "          element.innerHTML = '';\n",
              "          dataTable['output_type'] = 'display_data';\n",
              "          await google.colab.output.renderOutput(dataTable, element);\n",
              "          const docLink = document.createElement('div');\n",
              "          docLink.innerHTML = docLinkHtml;\n",
              "          element.appendChild(docLink);\n",
              "        }\n",
              "      </script>\n",
              "    </div>\n",
              "  </div>\n",
              "  "
            ]
          },
          "metadata": {},
          "execution_count": 41
        }
      ]
    },
    {
      "cell_type": "code",
      "source": [
        "furniture = furniture.sort_values('Order Date')\n",
        "furniture"
      ],
      "metadata": {
        "id": "5elqxBZYJRi4",
        "outputId": "71430652-7078-4bdb-ff73-a5a125abd6b8",
        "colab": {
          "base_uri": "https://localhost:8080/",
          "height": 424
        }
      },
      "execution_count": 43,
      "outputs": [
        {
          "output_type": "execute_result",
          "data": {
            "text/plain": [
              "     Order Date     Sales\n",
              "7474 2015-01-06  2573.820\n",
              "7660 2015-01-07    76.728\n",
              "866  2015-01-10    51.940\n",
              "716  2015-01-11     9.940\n",
              "4938 2015-01-13   333.999\n",
              "...         ...       ...\n",
              "5457 2018-12-29    68.460\n",
              "5131 2018-12-29   101.120\n",
              "7636 2018-12-29   258.750\n",
              "7632 2018-12-29  1207.840\n",
              "906  2018-12-30   323.136\n",
              "\n",
              "[2078 rows x 2 columns]"
            ],
            "text/html": [
              "\n",
              "  <div id=\"df-61cc81a6-87d7-4a40-9735-5415702ddef0\">\n",
              "    <div class=\"colab-df-container\">\n",
              "      <div>\n",
              "<style scoped>\n",
              "    .dataframe tbody tr th:only-of-type {\n",
              "        vertical-align: middle;\n",
              "    }\n",
              "\n",
              "    .dataframe tbody tr th {\n",
              "        vertical-align: top;\n",
              "    }\n",
              "\n",
              "    .dataframe thead th {\n",
              "        text-align: right;\n",
              "    }\n",
              "</style>\n",
              "<table border=\"1\" class=\"dataframe\">\n",
              "  <thead>\n",
              "    <tr style=\"text-align: right;\">\n",
              "      <th></th>\n",
              "      <th>Order Date</th>\n",
              "      <th>Sales</th>\n",
              "    </tr>\n",
              "  </thead>\n",
              "  <tbody>\n",
              "    <tr>\n",
              "      <th>7474</th>\n",
              "      <td>2015-01-06</td>\n",
              "      <td>2573.820</td>\n",
              "    </tr>\n",
              "    <tr>\n",
              "      <th>7660</th>\n",
              "      <td>2015-01-07</td>\n",
              "      <td>76.728</td>\n",
              "    </tr>\n",
              "    <tr>\n",
              "      <th>866</th>\n",
              "      <td>2015-01-10</td>\n",
              "      <td>51.940</td>\n",
              "    </tr>\n",
              "    <tr>\n",
              "      <th>716</th>\n",
              "      <td>2015-01-11</td>\n",
              "      <td>9.940</td>\n",
              "    </tr>\n",
              "    <tr>\n",
              "      <th>4938</th>\n",
              "      <td>2015-01-13</td>\n",
              "      <td>333.999</td>\n",
              "    </tr>\n",
              "    <tr>\n",
              "      <th>...</th>\n",
              "      <td>...</td>\n",
              "      <td>...</td>\n",
              "    </tr>\n",
              "    <tr>\n",
              "      <th>5457</th>\n",
              "      <td>2018-12-29</td>\n",
              "      <td>68.460</td>\n",
              "    </tr>\n",
              "    <tr>\n",
              "      <th>5131</th>\n",
              "      <td>2018-12-29</td>\n",
              "      <td>101.120</td>\n",
              "    </tr>\n",
              "    <tr>\n",
              "      <th>7636</th>\n",
              "      <td>2018-12-29</td>\n",
              "      <td>258.750</td>\n",
              "    </tr>\n",
              "    <tr>\n",
              "      <th>7632</th>\n",
              "      <td>2018-12-29</td>\n",
              "      <td>1207.840</td>\n",
              "    </tr>\n",
              "    <tr>\n",
              "      <th>906</th>\n",
              "      <td>2018-12-30</td>\n",
              "      <td>323.136</td>\n",
              "    </tr>\n",
              "  </tbody>\n",
              "</table>\n",
              "<p>2078 rows × 2 columns</p>\n",
              "</div>\n",
              "      <button class=\"colab-df-convert\" onclick=\"convertToInteractive('df-61cc81a6-87d7-4a40-9735-5415702ddef0')\"\n",
              "              title=\"Convert this dataframe to an interactive table.\"\n",
              "              style=\"display:none;\">\n",
              "        \n",
              "  <svg xmlns=\"http://www.w3.org/2000/svg\" height=\"24px\"viewBox=\"0 0 24 24\"\n",
              "       width=\"24px\">\n",
              "    <path d=\"M0 0h24v24H0V0z\" fill=\"none\"/>\n",
              "    <path d=\"M18.56 5.44l.94 2.06.94-2.06 2.06-.94-2.06-.94-.94-2.06-.94 2.06-2.06.94zm-11 1L8.5 8.5l.94-2.06 2.06-.94-2.06-.94L8.5 2.5l-.94 2.06-2.06.94zm10 10l.94 2.06.94-2.06 2.06-.94-2.06-.94-.94-2.06-.94 2.06-2.06.94z\"/><path d=\"M17.41 7.96l-1.37-1.37c-.4-.4-.92-.59-1.43-.59-.52 0-1.04.2-1.43.59L10.3 9.45l-7.72 7.72c-.78.78-.78 2.05 0 2.83L4 21.41c.39.39.9.59 1.41.59.51 0 1.02-.2 1.41-.59l7.78-7.78 2.81-2.81c.8-.78.8-2.07 0-2.86zM5.41 20L4 18.59l7.72-7.72 1.47 1.35L5.41 20z\"/>\n",
              "  </svg>\n",
              "      </button>\n",
              "      \n",
              "  <style>\n",
              "    .colab-df-container {\n",
              "      display:flex;\n",
              "      flex-wrap:wrap;\n",
              "      gap: 12px;\n",
              "    }\n",
              "\n",
              "    .colab-df-convert {\n",
              "      background-color: #E8F0FE;\n",
              "      border: none;\n",
              "      border-radius: 50%;\n",
              "      cursor: pointer;\n",
              "      display: none;\n",
              "      fill: #1967D2;\n",
              "      height: 32px;\n",
              "      padding: 0 0 0 0;\n",
              "      width: 32px;\n",
              "    }\n",
              "\n",
              "    .colab-df-convert:hover {\n",
              "      background-color: #E2EBFA;\n",
              "      box-shadow: 0px 1px 2px rgba(60, 64, 67, 0.3), 0px 1px 3px 1px rgba(60, 64, 67, 0.15);\n",
              "      fill: #174EA6;\n",
              "    }\n",
              "\n",
              "    [theme=dark] .colab-df-convert {\n",
              "      background-color: #3B4455;\n",
              "      fill: #D2E3FC;\n",
              "    }\n",
              "\n",
              "    [theme=dark] .colab-df-convert:hover {\n",
              "      background-color: #434B5C;\n",
              "      box-shadow: 0px 1px 3px 1px rgba(0, 0, 0, 0.15);\n",
              "      filter: drop-shadow(0px 1px 2px rgba(0, 0, 0, 0.3));\n",
              "      fill: #FFFFFF;\n",
              "    }\n",
              "  </style>\n",
              "\n",
              "      <script>\n",
              "        const buttonEl =\n",
              "          document.querySelector('#df-61cc81a6-87d7-4a40-9735-5415702ddef0 button.colab-df-convert');\n",
              "        buttonEl.style.display =\n",
              "          google.colab.kernel.accessAllowed ? 'block' : 'none';\n",
              "\n",
              "        async function convertToInteractive(key) {\n",
              "          const element = document.querySelector('#df-61cc81a6-87d7-4a40-9735-5415702ddef0');\n",
              "          const dataTable =\n",
              "            await google.colab.kernel.invokeFunction('convertToInteractive',\n",
              "                                                     [key], {});\n",
              "          if (!dataTable) return;\n",
              "\n",
              "          const docLinkHtml = 'Like what you see? Visit the ' +\n",
              "            '<a target=\"_blank\" href=https://colab.research.google.com/notebooks/data_table.ipynb>data table notebook</a>'\n",
              "            + ' to learn more about interactive tables.';\n",
              "          element.innerHTML = '';\n",
              "          dataTable['output_type'] = 'display_data';\n",
              "          await google.colab.output.renderOutput(dataTable, element);\n",
              "          const docLink = document.createElement('div');\n",
              "          docLink.innerHTML = docLinkHtml;\n",
              "          element.appendChild(docLink);\n",
              "        }\n",
              "      </script>\n",
              "    </div>\n",
              "  </div>\n",
              "  "
            ]
          },
          "metadata": {},
          "execution_count": 43
        }
      ]
    },
    {
      "cell_type": "code",
      "source": [
        "furniture  = furniture.set_index('Order Date')\n",
        "furniture"
      ],
      "metadata": {
        "id": "zlb_kEYKTwPz",
        "outputId": "2b7c018c-8e59-4f3f-86e2-0a6edb49c417",
        "colab": {
          "base_uri": "https://localhost:8080/",
          "height": 455
        }
      },
      "execution_count": 44,
      "outputs": [
        {
          "output_type": "execute_result",
          "data": {
            "text/plain": [
              "               Sales\n",
              "Order Date          \n",
              "2015-01-06  2573.820\n",
              "2015-01-07    76.728\n",
              "2015-01-10    51.940\n",
              "2015-01-11     9.940\n",
              "2015-01-13   333.999\n",
              "...              ...\n",
              "2018-12-29    68.460\n",
              "2018-12-29   101.120\n",
              "2018-12-29   258.750\n",
              "2018-12-29  1207.840\n",
              "2018-12-30   323.136\n",
              "\n",
              "[2078 rows x 1 columns]"
            ],
            "text/html": [
              "\n",
              "  <div id=\"df-55a93fa2-b79e-4e6e-9c9c-a0aabefc7a60\">\n",
              "    <div class=\"colab-df-container\">\n",
              "      <div>\n",
              "<style scoped>\n",
              "    .dataframe tbody tr th:only-of-type {\n",
              "        vertical-align: middle;\n",
              "    }\n",
              "\n",
              "    .dataframe tbody tr th {\n",
              "        vertical-align: top;\n",
              "    }\n",
              "\n",
              "    .dataframe thead th {\n",
              "        text-align: right;\n",
              "    }\n",
              "</style>\n",
              "<table border=\"1\" class=\"dataframe\">\n",
              "  <thead>\n",
              "    <tr style=\"text-align: right;\">\n",
              "      <th></th>\n",
              "      <th>Sales</th>\n",
              "    </tr>\n",
              "    <tr>\n",
              "      <th>Order Date</th>\n",
              "      <th></th>\n",
              "    </tr>\n",
              "  </thead>\n",
              "  <tbody>\n",
              "    <tr>\n",
              "      <th>2015-01-06</th>\n",
              "      <td>2573.820</td>\n",
              "    </tr>\n",
              "    <tr>\n",
              "      <th>2015-01-07</th>\n",
              "      <td>76.728</td>\n",
              "    </tr>\n",
              "    <tr>\n",
              "      <th>2015-01-10</th>\n",
              "      <td>51.940</td>\n",
              "    </tr>\n",
              "    <tr>\n",
              "      <th>2015-01-11</th>\n",
              "      <td>9.940</td>\n",
              "    </tr>\n",
              "    <tr>\n",
              "      <th>2015-01-13</th>\n",
              "      <td>333.999</td>\n",
              "    </tr>\n",
              "    <tr>\n",
              "      <th>...</th>\n",
              "      <td>...</td>\n",
              "    </tr>\n",
              "    <tr>\n",
              "      <th>2018-12-29</th>\n",
              "      <td>68.460</td>\n",
              "    </tr>\n",
              "    <tr>\n",
              "      <th>2018-12-29</th>\n",
              "      <td>101.120</td>\n",
              "    </tr>\n",
              "    <tr>\n",
              "      <th>2018-12-29</th>\n",
              "      <td>258.750</td>\n",
              "    </tr>\n",
              "    <tr>\n",
              "      <th>2018-12-29</th>\n",
              "      <td>1207.840</td>\n",
              "    </tr>\n",
              "    <tr>\n",
              "      <th>2018-12-30</th>\n",
              "      <td>323.136</td>\n",
              "    </tr>\n",
              "  </tbody>\n",
              "</table>\n",
              "<p>2078 rows × 1 columns</p>\n",
              "</div>\n",
              "      <button class=\"colab-df-convert\" onclick=\"convertToInteractive('df-55a93fa2-b79e-4e6e-9c9c-a0aabefc7a60')\"\n",
              "              title=\"Convert this dataframe to an interactive table.\"\n",
              "              style=\"display:none;\">\n",
              "        \n",
              "  <svg xmlns=\"http://www.w3.org/2000/svg\" height=\"24px\"viewBox=\"0 0 24 24\"\n",
              "       width=\"24px\">\n",
              "    <path d=\"M0 0h24v24H0V0z\" fill=\"none\"/>\n",
              "    <path d=\"M18.56 5.44l.94 2.06.94-2.06 2.06-.94-2.06-.94-.94-2.06-.94 2.06-2.06.94zm-11 1L8.5 8.5l.94-2.06 2.06-.94-2.06-.94L8.5 2.5l-.94 2.06-2.06.94zm10 10l.94 2.06.94-2.06 2.06-.94-2.06-.94-.94-2.06-.94 2.06-2.06.94z\"/><path d=\"M17.41 7.96l-1.37-1.37c-.4-.4-.92-.59-1.43-.59-.52 0-1.04.2-1.43.59L10.3 9.45l-7.72 7.72c-.78.78-.78 2.05 0 2.83L4 21.41c.39.39.9.59 1.41.59.51 0 1.02-.2 1.41-.59l7.78-7.78 2.81-2.81c.8-.78.8-2.07 0-2.86zM5.41 20L4 18.59l7.72-7.72 1.47 1.35L5.41 20z\"/>\n",
              "  </svg>\n",
              "      </button>\n",
              "      \n",
              "  <style>\n",
              "    .colab-df-container {\n",
              "      display:flex;\n",
              "      flex-wrap:wrap;\n",
              "      gap: 12px;\n",
              "    }\n",
              "\n",
              "    .colab-df-convert {\n",
              "      background-color: #E8F0FE;\n",
              "      border: none;\n",
              "      border-radius: 50%;\n",
              "      cursor: pointer;\n",
              "      display: none;\n",
              "      fill: #1967D2;\n",
              "      height: 32px;\n",
              "      padding: 0 0 0 0;\n",
              "      width: 32px;\n",
              "    }\n",
              "\n",
              "    .colab-df-convert:hover {\n",
              "      background-color: #E2EBFA;\n",
              "      box-shadow: 0px 1px 2px rgba(60, 64, 67, 0.3), 0px 1px 3px 1px rgba(60, 64, 67, 0.15);\n",
              "      fill: #174EA6;\n",
              "    }\n",
              "\n",
              "    [theme=dark] .colab-df-convert {\n",
              "      background-color: #3B4455;\n",
              "      fill: #D2E3FC;\n",
              "    }\n",
              "\n",
              "    [theme=dark] .colab-df-convert:hover {\n",
              "      background-color: #434B5C;\n",
              "      box-shadow: 0px 1px 3px 1px rgba(0, 0, 0, 0.15);\n",
              "      filter: drop-shadow(0px 1px 2px rgba(0, 0, 0, 0.3));\n",
              "      fill: #FFFFFF;\n",
              "    }\n",
              "  </style>\n",
              "\n",
              "      <script>\n",
              "        const buttonEl =\n",
              "          document.querySelector('#df-55a93fa2-b79e-4e6e-9c9c-a0aabefc7a60 button.colab-df-convert');\n",
              "        buttonEl.style.display =\n",
              "          google.colab.kernel.accessAllowed ? 'block' : 'none';\n",
              "\n",
              "        async function convertToInteractive(key) {\n",
              "          const element = document.querySelector('#df-55a93fa2-b79e-4e6e-9c9c-a0aabefc7a60');\n",
              "          const dataTable =\n",
              "            await google.colab.kernel.invokeFunction('convertToInteractive',\n",
              "                                                     [key], {});\n",
              "          if (!dataTable) return;\n",
              "\n",
              "          const docLinkHtml = 'Like what you see? Visit the ' +\n",
              "            '<a target=\"_blank\" href=https://colab.research.google.com/notebooks/data_table.ipynb>data table notebook</a>'\n",
              "            + ' to learn more about interactive tables.';\n",
              "          element.innerHTML = '';\n",
              "          dataTable['output_type'] = 'display_data';\n",
              "          await google.colab.output.renderOutput(dataTable, element);\n",
              "          const docLink = document.createElement('div');\n",
              "          docLink.innerHTML = docLinkHtml;\n",
              "          element.appendChild(docLink);\n",
              "        }\n",
              "      </script>\n",
              "    </div>\n",
              "  </div>\n",
              "  "
            ]
          },
          "metadata": {},
          "execution_count": 44
        }
      ]
    },
    {
      "cell_type": "code",
      "source": [
        "furniture_y = furniture['Sales'].resample('MS').mean()\n",
        "furniture_y"
      ],
      "metadata": {
        "id": "89ZJsFNCT1RO",
        "outputId": "e1c30880-eb0b-4cb4-b2dc-45967443c4a6",
        "colab": {
          "base_uri": "https://localhost:8080/"
        }
      },
      "execution_count": 45,
      "outputs": [
        {
          "output_type": "execute_result",
          "data": {
            "text/plain": [
              "Order Date\n",
              "2015-01-01    327.225105\n",
              "2015-02-01    262.808286\n",
              "2015-03-01    445.105250\n",
              "2015-04-01    305.570654\n",
              "2015-05-01    288.032792\n",
              "2015-06-01    453.261434\n",
              "2015-07-01    327.910636\n",
              "2015-08-01    309.791761\n",
              "2015-09-01    425.294300\n",
              "2015-10-01    384.507719\n",
              "2015-11-01    357.850678\n",
              "2015-12-01    419.689623\n",
              "2016-01-01    782.662773\n",
              "2016-02-01    284.943091\n",
              "2016-03-01    335.486054\n",
              "2016-04-01    317.445409\n",
              "2016-05-01    312.498350\n",
              "2016-06-01    301.638840\n",
              "2016-07-01    350.436923\n",
              "2016-08-01    301.206006\n",
              "2016-09-01    456.098600\n",
              "2016-10-01    333.271071\n",
              "2016-11-01    397.335533\n",
              "2016-12-01    362.099225\n",
              "2017-01-01    346.488318\n",
              "2017-02-01    206.607947\n",
              "2017-03-01    306.816550\n",
              "2017-04-01    377.488286\n",
              "2017-05-01    363.233537\n",
              "2017-06-01    355.729257\n",
              "2017-07-01    339.723216\n",
              "2017-08-01    425.359225\n",
              "2017-09-01    330.314505\n",
              "2017-10-01    256.804543\n",
              "2017-11-01    392.390479\n",
              "2017-12-01    446.402012\n",
              "2018-01-01    269.552818\n",
              "2018-02-01    270.975096\n",
              "2018-03-01    286.669600\n",
              "2018-04-01    206.044502\n",
              "2018-05-01    319.953928\n",
              "2018-06-01    347.599729\n",
              "2018-07-01    227.516440\n",
              "2018-08-01    405.766368\n",
              "2018-09-01    347.764707\n",
              "2018-10-01    308.226313\n",
              "2018-11-01    374.310253\n",
              "2018-12-01    296.296857\n",
              "Freq: MS, Name: Sales, dtype: float64"
            ]
          },
          "metadata": {},
          "execution_count": 45
        }
      ]
    },
    {
      "cell_type": "code",
      "source": [
        "furniture_y.plot(figsize=(15,6))\n",
        "plt.ylabel(\"Sales\",fontsize=18)\n",
        "plt.xlabel(\"Order Date\",fontsize=18)\n",
        "plt.title(\"Order Date Vs Sales\",fontsize=20)\n",
        "plt.show()\n"
      ],
      "metadata": {
        "id": "GB9NSmKmIfkr",
        "outputId": "9693d8d6-c5ca-4e5a-d686-1113323455d2",
        "colab": {
          "base_uri": "https://localhost:8080/",
          "height": 429
        }
      },
      "execution_count": 46,
      "outputs": [
        {
          "output_type": "display_data",
          "data": {
            "text/plain": [
              "<Figure size 1080x432 with 1 Axes>"
            ],
            "image/png": "[encoded data removed]"
          },
          "metadata": {
            "needs_background": "light"
          }
        }
      ]
    },
    {
      "cell_type": "code",
      "source": [
        "from pylab import rcParams as rc\n",
        "rc['figure.figsize']= 10, 14\n",
        "decomposition = sm.tsa.seasonal_decompose(furniture_y,model='additive')\n",
        "\n",
        "# y(t) = Level + Trend + Seasonality + Noise --> Additive\n",
        "print(\"Trend \\n \")\n",
        "print(decomposition.trend)\n",
        "print(\"Seasonal \\n \")\n",
        "print(decomposition.seasonal)\n",
        "print(\"Residual \\n \")\n",
        "print(decomposition.resid)\n",
        "print(\"Observed \\n \")\n",
        "print(decomposition.observed)"
      ],
      "metadata": {
        "id": "WEd2zlg2IkMH",
        "outputId": "d712d83d-a0da-45f6-ba74-343d136de762",
        "colab": {
          "base_uri": "https://localhost:8080/"
        }
      },
      "execution_count": 47,
      "outputs": [
        {
          "output_type": "stream",
          "name": "stdout",
          "text": [
            "Trend \n",
            " \n",
            "Order Date\n",
            "2015-01-01           NaN\n",
            "2015-02-01           NaN\n",
            "2015-03-01           NaN\n",
            "2015-04-01           NaN\n",
            "2015-05-01           NaN\n",
            "2015-06-01           NaN\n",
            "2015-07-01    377.897256\n",
            "2015-08-01    397.796109\n",
            "2015-09-01    394.150926\n",
            "2015-10-01    390.078241\n",
            "2015-11-01    391.592421\n",
            "2015-12-01    386.294211\n",
            "2016-01-01    380.915198\n",
            "2016-02-01    381.496054\n",
            "2016-03-01    382.421826\n",
            "2016-04-01    381.570479\n",
            "2016-05-01    381.080821\n",
            "2016-06-01    380.326423\n",
            "2016-07-01    359.752887\n",
            "2016-08-01    338.314987\n",
            "2016-09-01    333.856460\n",
            "2016-10-01    335.163684\n",
            "2016-11-01    339.779437\n",
            "2016-12-01    344.147170\n",
            "2017-01-01    345.954533\n",
            "2017-02-01    350.681180\n",
            "2017-03-01    350.613227\n",
            "2017-04-01    342.186117\n",
            "2017-05-01    338.793968\n",
            "2017-06-01    342.100540\n",
            "2017-07-01    342.407510\n",
            "2017-08-01    341.883829\n",
            "2017-09-01    343.726337\n",
            "2017-10-01    335.743390\n",
            "2017-11-01    326.796582\n",
            "2017-12-01    324.654535\n",
            "2018-01-01    319.640522\n",
            "2018-02-01    314.148871\n",
            "2018-03-01    314.059594\n",
            "2018-04-01    316.929259\n",
            "2018-05-01    318.318490\n",
            "2018-06-01    311.310766\n",
            "2018-07-01           NaN\n",
            "2018-08-01           NaN\n",
            "2018-09-01           NaN\n",
            "2018-10-01           NaN\n",
            "2018-11-01           NaN\n",
            "2018-12-01           NaN\n",
            "Freq: MS, Name: trend, dtype: float64\n",
            "Seasonal \n",
            " \n",
            "Order Date\n",
            "2015-01-01    118.738544\n",
            "2015-02-01    -93.259332\n",
            "2015-03-01    -38.033489\n",
            "2015-04-01    -45.228561\n",
            "2015-05-01    -12.828496\n",
            "2015-06-01     -8.249309\n",
            "2015-07-01    -19.321634\n",
            "2015-08-01    -12.538653\n",
            "2015-09-01     47.998552\n",
            "2015-10-01    -27.460002\n",
            "2015-11-01     31.143408\n",
            "2015-12-01     59.038973\n",
            "2016-01-01    118.738544\n",
            "2016-02-01    -93.259332\n",
            "2016-03-01    -38.033489\n",
            "2016-04-01    -45.228561\n",
            "2016-05-01    -12.828496\n",
            "2016-06-01     -8.249309\n",
            "2016-07-01    -19.321634\n",
            "2016-08-01    -12.538653\n",
            "2016-09-01     47.998552\n",
            "2016-10-01    -27.460002\n",
            "2016-11-01     31.143408\n",
            "2016-12-01     59.038973\n",
            "2017-01-01    118.738544\n",
            "2017-02-01    -93.259332\n",
            "2017-03-01    -38.033489\n",
            "2017-04-01    -45.228561\n",
            "2017-05-01    -12.828496\n",
            "2017-06-01     -8.249309\n",
            "2017-07-01    -19.321634\n",
            "2017-08-01    -12.538653\n",
            "2017-09-01     47.998552\n",
            "2017-10-01    -27.460002\n",
            "2017-11-01     31.143408\n",
            "2017-12-01     59.038973\n",
            "2018-01-01    118.738544\n",
            "2018-02-01    -93.259332\n",
            "2018-03-01    -38.033489\n",
            "2018-04-01    -45.228561\n",
            "2018-05-01    -12.828496\n",
            "2018-06-01     -8.249309\n",
            "2018-07-01    -19.321634\n",
            "2018-08-01    -12.538653\n",
            "2018-09-01     47.998552\n",
            "2018-10-01    -27.460002\n",
            "2018-11-01     31.143408\n",
            "2018-12-01     59.038973\n",
            "Freq: MS, Name: seasonal, dtype: float64\n",
            "Residual \n",
            " \n",
            "Order Date\n",
            "2015-01-01           NaN\n",
            "2015-02-01           NaN\n",
            "2015-03-01           NaN\n",
            "2015-04-01           NaN\n",
            "2015-05-01           NaN\n",
            "2015-06-01           NaN\n",
            "2015-07-01    -30.664985\n",
            "2015-08-01    -75.465695\n",
            "2015-09-01    -16.855178\n",
            "2015-10-01     21.889480\n",
            "2015-11-01    -64.885151\n",
            "2015-12-01    -25.643561\n",
            "2016-01-01    283.009032\n",
            "2016-02-01     -3.293631\n",
            "2016-03-01     -8.902283\n",
            "2016-04-01    -18.896509\n",
            "2016-05-01    -55.753974\n",
            "2016-06-01    -70.438274\n",
            "2016-07-01     10.005670\n",
            "2016-08-01    -24.570328\n",
            "2016-09-01     74.243588\n",
            "2016-10-01     25.567389\n",
            "2016-11-01     26.412688\n",
            "2016-12-01    -41.086918\n",
            "2017-01-01   -118.204759\n",
            "2017-02-01    -50.813901\n",
            "2017-03-01     -5.763187\n",
            "2017-04-01     80.530729\n",
            "2017-05-01     37.268065\n",
            "2017-06-01     21.878026\n",
            "2017-07-01     16.637340\n",
            "2017-08-01     96.014049\n",
            "2017-09-01    -61.410384\n",
            "2017-10-01    -51.478844\n",
            "2017-11-01     34.450488\n",
            "2017-12-01     62.708504\n",
            "2018-01-01   -168.826248\n",
            "2018-02-01     50.085557\n",
            "2018-03-01     10.643496\n",
            "2018-04-01    -65.656196\n",
            "2018-05-01     14.463935\n",
            "2018-06-01     44.538272\n",
            "2018-07-01           NaN\n",
            "2018-08-01           NaN\n",
            "2018-09-01           NaN\n",
            "2018-10-01           NaN\n",
            "2018-11-01           NaN\n",
            "2018-12-01           NaN\n",
            "Freq: MS, Name: resid, dtype: float64\n",
            "Observed \n",
            " \n",
            "Order Date\n",
            "2015-01-01    327.225105\n",
            "2015-02-01    262.808286\n",
            "2015-03-01    445.105250\n",
            "2015-04-01    305.570654\n",
            "2015-05-01    288.032792\n",
            "2015-06-01    453.261434\n",
            "2015-07-01    327.910636\n",
            "2015-08-01    309.791761\n",
            "2015-09-01    425.294300\n",
            "2015-10-01    384.507719\n",
            "2015-11-01    357.850678\n",
            "2015-12-01    419.689623\n",
            "2016-01-01    782.662773\n",
            "2016-02-01    284.943091\n",
            "2016-03-01    335.486054\n",
            "2016-04-01    317.445409\n",
            "2016-05-01    312.498350\n",
            "2016-06-01    301.638840\n",
            "2016-07-01    350.436923\n",
            "2016-08-01    301.206006\n",
            "2016-09-01    456.098600\n",
            "2016-10-01    333.271071\n",
            "2016-11-01    397.335533\n",
            "2016-12-01    362.099225\n",
            "2017-01-01    346.488318\n",
            "2017-02-01    206.607947\n",
            "2017-03-01    306.816550\n",
            "2017-04-01    377.488286\n",
            "2017-05-01    363.233537\n",
            "2017-06-01    355.729257\n",
            "2017-07-01    339.723216\n",
            "2017-08-01    425.359225\n",
            "2017-09-01    330.314505\n",
            "2017-10-01    256.804543\n",
            "2017-11-01    392.390479\n",
            "2017-12-01    446.402012\n",
            "2018-01-01    269.552818\n",
            "2018-02-01    270.975096\n",
            "2018-03-01    286.669600\n",
            "2018-04-01    206.044502\n",
            "2018-05-01    319.953928\n",
            "2018-06-01    347.599729\n",
            "2018-07-01    227.516440\n",
            "2018-08-01    405.766368\n",
            "2018-09-01    347.764707\n",
            "2018-10-01    308.226313\n",
            "2018-11-01    374.310253\n",
            "2018-12-01    296.296857\n",
            "Freq: MS, Name: Sales, dtype: float64\n"
          ]
        }
      ]
    },
    {
      "cell_type": "code",
      "source": [
        "fig = decomposition.plot()\n",
        "plt.show"
      ],
      "metadata": {
        "id": "wvQJudkUUOaI",
        "outputId": "1ff5a348-32e6-4ce5-e915-fb9ebcd1cbb4",
        "colab": {
          "base_uri": "https://localhost:8080/",
          "height": 1000
        }
      },
      "execution_count": 48,
      "outputs": [
        {
          "output_type": "execute_result",
          "data": {
            "text/plain": [
              "<function matplotlib.pyplot.show(*args, **kw)>"
            ]
          },
          "metadata": {},
          "execution_count": 48
        },
        {
          "output_type": "display_data",
          "data": {
            "text/plain": [
              "<Figure size 720x1008 with 4 Axes>"
            ],
            "image/png": "[encoded data removed]"
          },
          "metadata": {
            "needs_background": "light"
          }
        }
      ]
    },
    {
      "cell_type": "code",
      "source": [
        "p=d=q=range(0,2)\n",
        "p,d,q"
      ],
      "metadata": {
        "id": "PRQhlUFTUY7u",
        "outputId": "a8d93d13-7961-49af-bb86-655e3a95fa62",
        "colab": {
          "base_uri": "https://localhost:8080/"
        }
      },
      "execution_count": 49,
      "outputs": [
        {
          "output_type": "execute_result",
          "data": {
            "text/plain": [
              "(range(0, 2), range(0, 2), range(0, 2))"
            ]
          },
          "metadata": {},
          "execution_count": 49
        }
      ]
    },
    {
      "cell_type": "code",
      "source": [
        "pdq = list(itertools.product(p,d,q))\n",
        "pdq"
      ],
      "metadata": {
        "id": "hEkmljaOUbYC",
        "outputId": "a947cd35-903d-46c4-839d-8f645fbcd262",
        "colab": {
          "base_uri": "https://localhost:8080/"
        }
      },
      "execution_count": 50,
      "outputs": [
        {
          "output_type": "execute_result",
          "data": {
            "text/plain": [
              "[(0, 0, 0),\n",
              " (0, 0, 1),\n",
              " (0, 1, 0),\n",
              " (0, 1, 1),\n",
              " (1, 0, 0),\n",
              " (1, 0, 1),\n",
              " (1, 1, 0),\n",
              " (1, 1, 1)]"
            ]
          },
          "metadata": {},
          "execution_count": 50
        }
      ]
    },
    {
      "cell_type": "code",
      "source": [
        "seasonal_pdq = [(x[0],x[1],x[2], 12) for x in pdq]\n",
        "seasonal_pdq"
      ],
      "metadata": {
        "id": "QCvqTwm3UcUo",
        "outputId": "a2ac3098-8660-4283-9052-1155f880f6ec",
        "colab": {
          "base_uri": "https://localhost:8080/"
        }
      },
      "execution_count": 52,
      "outputs": [
        {
          "output_type": "execute_result",
          "data": {
            "text/plain": [
              "[(0, 0, 0, 12),\n",
              " (0, 0, 1, 12),\n",
              " (0, 1, 0, 12),\n",
              " (0, 1, 1, 12),\n",
              " (1, 0, 0, 12),\n",
              " (1, 0, 1, 12),\n",
              " (1, 1, 0, 12),\n",
              " (1, 1, 1, 12)]"
            ]
          },
          "metadata": {},
          "execution_count": 52
        }
      ]
    },
    {
      "cell_type": "code",
      "source": [
        "for param in pdq:\n",
        "    for param_seasonal in seasonal_pdq:\n",
        "        try:\n",
        "            mod = sm.tsa.statespace.SARIMAX(furniture_y,order = param, seasonal_order = param_seasonal ,\n",
        "                                            enforce_stationarity= False , enforce_invertibility= False )\n",
        "            results = mod.fit()\n",
        "            \n",
        "            print('ARIMA{} x {} 12 -- AIC : {}'.format(param, param_seasonal, results.aic))\n",
        "            \n",
        "        except:\n",
        "             continue"
      ],
      "metadata": {
        "id": "lRZguFlmUhx2",
        "outputId": "df5d0461-96c3-4537-a18f-a150d429272d",
        "colab": {
          "base_uri": "https://localhost:8080/"
        }
      },
      "execution_count": 53,
      "outputs": [
        {
          "output_type": "stream",
          "name": "stdout",
          "text": [
            "ARIMA(0, 0, 0) x (0, 0, 0, 12) 12 -- AIC : 688.2727988777473\n"
          ]
        },
        {
          "output_type": "stream",
          "name": "stderr",
          "text": [
            "/usr/local/lib/python3.7/dist-packages/statsmodels/base/model.py:568: ConvergenceWarning: Maximum Likelihood optimization failed to converge. Check mle_retvals\n",
            "  ConvergenceWarning)\n",
            "/usr/local/lib/python3.7/dist-packages/statsmodels/tsa/statespace/sarimax.py:868: UserWarning: Too few observations to estimate starting parameters for seasonal ARMA. All parameters except for variances will be set to zeros.\n",
            "  ' zeros.' % warning_description)\n"
          ]
        },
        {
          "output_type": "stream",
          "name": "stdout",
          "text": [
            "ARIMA(0, 0, 0) x (0, 0, 1, 12) 12 -- AIC : 1747.6913149353381\n",
            "ARIMA(0, 0, 0) x (0, 1, 0, 12) 12 -- AIC : 426.24100335321197\n",
            "ARIMA(0, 0, 0) x (0, 1, 1, 12) 12 -- AIC : 269.72976082229656\n",
            "ARIMA(0, 0, 0) x (1, 0, 0, 12) 12 -- AIC : 451.7672519195212\n",
            "ARIMA(0, 0, 0) x (1, 0, 1, 12) 12 -- AIC : 420.70429654167555\n",
            "ARIMA(0, 0, 0) x (1, 1, 0, 12) 12 -- AIC : 293.21796372966185\n",
            "ARIMA(0, 0, 0) x (1, 1, 1, 12) 12 -- AIC : 271.723159893868\n",
            "ARIMA(0, 0, 1) x (0, 0, 0, 12) 12 -- AIC : 638.9354799709242\n"
          ]
        },
        {
          "output_type": "stream",
          "name": "stderr",
          "text": [
            "/usr/local/lib/python3.7/dist-packages/statsmodels/base/model.py:568: ConvergenceWarning: Maximum Likelihood optimization failed to converge. Check mle_retvals\n",
            "  ConvergenceWarning)\n"
          ]
        },
        {
          "output_type": "stream",
          "name": "stdout",
          "text": [
            "ARIMA(0, 0, 1) x (0, 0, 1, 12) 12 -- AIC : 2696.830193575839\n",
            "ARIMA(0, 0, 1) x (0, 1, 0, 12) 12 -- AIC : 416.2189924183683\n",
            "ARIMA(0, 0, 1) x (0, 1, 1, 12) 12 -- AIC : 260.1944512935929\n"
          ]
        },
        {
          "output_type": "stream",
          "name": "stderr",
          "text": [
            "/usr/local/lib/python3.7/dist-packages/statsmodels/base/model.py:568: ConvergenceWarning: Maximum Likelihood optimization failed to converge. Check mle_retvals\n",
            "  ConvergenceWarning)\n"
          ]
        },
        {
          "output_type": "stream",
          "name": "stdout",
          "text": [
            "ARIMA(0, 0, 1) x (1, 0, 0, 12) 12 -- AIC : 453.99279934019023\n"
          ]
        },
        {
          "output_type": "stream",
          "name": "stderr",
          "text": [
            "/usr/local/lib/python3.7/dist-packages/statsmodels/base/model.py:568: ConvergenceWarning: Maximum Likelihood optimization failed to converge. Check mle_retvals\n",
            "  ConvergenceWarning)\n"
          ]
        },
        {
          "output_type": "stream",
          "name": "stdout",
          "text": [
            "ARIMA(0, 0, 1) x (1, 0, 1, 12) 12 -- AIC : 410.8822340758337\n",
            "ARIMA(0, 0, 1) x (1, 1, 0, 12) 12 -- AIC : 295.19430119774455\n",
            "ARIMA(0, 0, 1) x (1, 1, 1, 12) 12 -- AIC : 262.19046463118536\n",
            "ARIMA(0, 1, 0) x (0, 0, 0, 12) 12 -- AIC : 578.049435051341\n",
            "ARIMA(0, 1, 0) x (0, 0, 1, 12) 12 -- AIC : 1517.228029303214\n",
            "ARIMA(0, 1, 0) x (0, 1, 0, 12) 12 -- AIC : 433.17452414717553\n"
          ]
        },
        {
          "output_type": "stream",
          "name": "stderr",
          "text": [
            "/usr/local/lib/python3.7/dist-packages/statsmodels/base/model.py:568: ConvergenceWarning: Maximum Likelihood optimization failed to converge. Check mle_retvals\n",
            "  ConvergenceWarning)\n"
          ]
        },
        {
          "output_type": "stream",
          "name": "stdout",
          "text": [
            "ARIMA(0, 1, 0) x (0, 1, 1, 12) 12 -- AIC : 270.9211168748066\n",
            "ARIMA(0, 1, 0) x (1, 0, 0, 12) 12 -- AIC : 435.0653478561736\n"
          ]
        },
        {
          "output_type": "stream",
          "name": "stderr",
          "text": [
            "/usr/local/lib/python3.7/dist-packages/statsmodels/base/model.py:568: ConvergenceWarning: Maximum Likelihood optimization failed to converge. Check mle_retvals\n",
            "  ConvergenceWarning)\n"
          ]
        },
        {
          "output_type": "stream",
          "name": "stdout",
          "text": [
            "ARIMA(0, 1, 0) x (1, 0, 1, 12) 12 -- AIC : 1413.4597840557508\n",
            "ARIMA(0, 1, 0) x (1, 1, 0, 12) 12 -- AIC : 291.64023419659304\n",
            "ARIMA(0, 1, 0) x (1, 1, 1, 12) 12 -- AIC : 272.8779631559205\n",
            "ARIMA(0, 1, 1) x (0, 0, 0, 12) 12 -- AIC : 538.0637124799227\n",
            "ARIMA(0, 1, 1) x (0, 0, 1, 12) 12 -- AIC : 2425.0507523333044\n"
          ]
        },
        {
          "output_type": "stream",
          "name": "stderr",
          "text": [
            "/usr/local/lib/python3.7/dist-packages/statsmodels/base/model.py:568: ConvergenceWarning: Maximum Likelihood optimization failed to converge. Check mle_retvals\n",
            "  ConvergenceWarning)\n"
          ]
        },
        {
          "output_type": "stream",
          "name": "stdout",
          "text": [
            "ARIMA(0, 1, 1) x (0, 1, 0, 12) 12 -- AIC : 410.26743087575727\n",
            "ARIMA(0, 1, 1) x (0, 1, 1, 12) 12 -- AIC : 251.44358973197996\n",
            "ARIMA(0, 1, 1) x (1, 0, 0, 12) 12 -- AIC : 419.07201295457935\n"
          ]
        },
        {
          "output_type": "stream",
          "name": "stderr",
          "text": [
            "/usr/local/lib/python3.7/dist-packages/statsmodels/base/model.py:568: ConvergenceWarning: Maximum Likelihood optimization failed to converge. Check mle_retvals\n",
            "  ConvergenceWarning)\n"
          ]
        },
        {
          "output_type": "stream",
          "name": "stdout",
          "text": [
            "ARIMA(0, 1, 1) x (1, 0, 1, 12) 12 -- AIC : 2263.0022798866476\n",
            "ARIMA(0, 1, 1) x (1, 1, 0, 12) 12 -- AIC : 271.46263126327796\n",
            "ARIMA(0, 1, 1) x (1, 1, 1, 12) 12 -- AIC : 253.40901900874522\n",
            "ARIMA(1, 0, 0) x (0, 0, 0, 12) 12 -- AIC : 590.2816594577193\n",
            "ARIMA(1, 0, 0) x (0, 0, 1, 12) 12 -- AIC : 1643.2403422954867\n",
            "ARIMA(1, 0, 0) x (0, 1, 0, 12) 12 -- AIC : 427.7404610912701\n"
          ]
        },
        {
          "output_type": "stream",
          "name": "stderr",
          "text": [
            "/usr/local/lib/python3.7/dist-packages/statsmodels/base/model.py:568: ConvergenceWarning: Maximum Likelihood optimization failed to converge. Check mle_retvals\n",
            "  ConvergenceWarning)\n"
          ]
        },
        {
          "output_type": "stream",
          "name": "stdout",
          "text": [
            "ARIMA(1, 0, 0) x (0, 1, 1, 12) 12 -- AIC : 271.1286179018499\n",
            "ARIMA(1, 0, 0) x (1, 0, 0, 12) 12 -- AIC : 419.9797592324166\n",
            "ARIMA(1, 0, 0) x (1, 0, 1, 12) 12 -- AIC : 421.93514069914255\n",
            "ARIMA(1, 0, 0) x (1, 1, 0, 12) 12 -- AIC : 271.1287478460719\n",
            "ARIMA(1, 0, 0) x (1, 1, 1, 12) 12 -- AIC : 273.1283390111658\n",
            "ARIMA(1, 0, 1) x (0, 0, 0, 12) 12 -- AIC : 552.9998685806055\n"
          ]
        },
        {
          "output_type": "stream",
          "name": "stderr",
          "text": [
            "/usr/local/lib/python3.7/dist-packages/statsmodels/base/model.py:568: ConvergenceWarning: Maximum Likelihood optimization failed to converge. Check mle_retvals\n",
            "  ConvergenceWarning)\n"
          ]
        },
        {
          "output_type": "stream",
          "name": "stdout",
          "text": [
            "ARIMA(1, 0, 1) x (0, 0, 1, 12) 12 -- AIC : 2674.061140764317\n",
            "ARIMA(1, 0, 1) x (0, 1, 0, 12) 12 -- AIC : 417.8757693900543\n",
            "ARIMA(1, 0, 1) x (0, 1, 1, 12) 12 -- AIC : 261.6105271664384\n",
            "ARIMA(1, 0, 1) x (1, 0, 0, 12) 12 -- AIC : 421.95423311122875\n",
            "ARIMA(1, 0, 1) x (1, 0, 1, 12) 12 -- AIC : 386.08634551249804\n",
            "ARIMA(1, 0, 1) x (1, 1, 0, 12) 12 -- AIC : 273.3977750346085\n",
            "ARIMA(1, 0, 1) x (1, 1, 1, 12) 12 -- AIC : 262.64179375799455\n",
            "ARIMA(1, 1, 0) x (0, 0, 0, 12) 12 -- AIC : 567.9552382719255\n"
          ]
        },
        {
          "output_type": "stream",
          "name": "stderr",
          "text": [
            "/usr/local/lib/python3.7/dist-packages/statsmodels/base/model.py:568: ConvergenceWarning: Maximum Likelihood optimization failed to converge. Check mle_retvals\n",
            "  ConvergenceWarning)\n"
          ]
        },
        {
          "output_type": "stream",
          "name": "stdout",
          "text": [
            "ARIMA(1, 1, 0) x (0, 0, 1, 12) 12 -- AIC : 1012.4506640210043\n",
            "ARIMA(1, 1, 0) x (0, 1, 0, 12) 12 -- AIC : 432.67462184765674\n",
            "ARIMA(1, 1, 0) x (0, 1, 1, 12) 12 -- AIC : 272.21762150806177\n",
            "ARIMA(1, 1, 0) x (1, 0, 0, 12) 12 -- AIC : 397.51972421334955\n"
          ]
        },
        {
          "output_type": "stream",
          "name": "stderr",
          "text": [
            "/usr/local/lib/python3.7/dist-packages/statsmodels/base/model.py:568: ConvergenceWarning: Maximum Likelihood optimization failed to converge. Check mle_retvals\n",
            "  ConvergenceWarning)\n"
          ]
        },
        {
          "output_type": "stream",
          "name": "stdout",
          "text": [
            "ARIMA(1, 1, 0) x (1, 0, 1, 12) 12 -- AIC : 1293.214956915366\n",
            "ARIMA(1, 1, 0) x (1, 1, 0, 12) 12 -- AIC : 272.22624407933654\n",
            "ARIMA(1, 1, 0) x (1, 1, 1, 12) 12 -- AIC : 274.20040546138773\n",
            "ARIMA(1, 1, 1) x (0, 0, 0, 12) 12 -- AIC : 540.0391017396573\n"
          ]
        },
        {
          "output_type": "stream",
          "name": "stderr",
          "text": [
            "/usr/local/lib/python3.7/dist-packages/statsmodels/base/model.py:568: ConvergenceWarning: Maximum Likelihood optimization failed to converge. Check mle_retvals\n",
            "  ConvergenceWarning)\n"
          ]
        },
        {
          "output_type": "stream",
          "name": "stdout",
          "text": [
            "ARIMA(1, 1, 1) x (0, 0, 1, 12) 12 -- AIC : 1910.848170805344\n",
            "ARIMA(1, 1, 1) x (0, 1, 0, 12) 12 -- AIC : 411.544389159725\n",
            "ARIMA(1, 1, 1) x (0, 1, 1, 12) 12 -- AIC : 253.32914632916268\n",
            "ARIMA(1, 1, 1) x (1, 0, 0, 12) 12 -- AIC : 388.2493345908373\n",
            "ARIMA(1, 1, 1) x (1, 0, 1, 12) 12 -- AIC : 2114.952690264373\n",
            "ARIMA(1, 1, 1) x (1, 1, 0, 12) 12 -- AIC : 262.2703104210095\n",
            "ARIMA(1, 1, 1) x (1, 1, 1, 12) 12 -- AIC : 255.30058198276396\n"
          ]
        }
      ]
    },
    {
      "cell_type": "markdown",
      "source": [
        "ARIMA(1, 1, 1) x (1, 1, 0, 12) 12 -- AIC : 255.30058198276396 ---> Best Parameter"
      ],
      "metadata": {
        "id": "TtYRGWxtUoK1"
      }
    },
    {
      "cell_type": "code",
      "source": [
        "mod = sm.tsa.statespace.SARIMAX(furniture_y,\n",
        "                               order=(1,1,1),\n",
        "                               seasonal_order= (1,1,0,12),\n",
        "                               enforce_stationarity = False,\n",
        "                               enforce_invertibility=False)\n",
        "results = mod.fit()\n",
        "print(results.summary().tables[1])"
      ],
      "metadata": {
        "id": "r35PJlWCUn-S",
        "outputId": "44c62304-fcdd-4ed5-f1e8-372e52f94a77",
        "colab": {
          "base_uri": "https://localhost:8080/"
        }
      },
      "execution_count": 54,
      "outputs": [
        {
          "output_type": "stream",
          "name": "stdout",
          "text": [
            "==============================================================================\n",
            "                 coef    std err          z      P>|z|      [0.025      0.975]\n",
            "------------------------------------------------------------------------------\n",
            "ar.L1         -0.0041      0.250     -0.016      0.987      -0.495       0.486\n",
            "ma.L1         -1.0000      0.411     -2.431      0.015      -1.806      -0.194\n",
            "ar.S.L12      -0.0008      0.100     -0.008      0.993      -0.197       0.195\n",
            "sigma2      5867.9865   7.01e-05   8.37e+07      0.000    5867.986    5867.987\n",
            "==============================================================================\n"
          ]
        }
      ]
    },
    {
      "cell_type": "code",
      "source": [
        "results.plot_diagnostics(figsize=(16,8))\n",
        "plt.show()"
      ],
      "metadata": {
        "id": "JI9XJy-NU1uC"
      },
      "execution_count": null,
      "outputs": []
    },
    {
      "cell_type": "markdown",
      "source": [
        "**ỨNG DỤNG MÔ HÌNH ARIMA ĐỂ DỰ BÁO**"
      ],
      "metadata": {
        "id": "ZBY6cAxnF-w8"
      }
    },
    {
      "cell_type": "markdown",
      "source": [
        "# Triển khai API"
      ],
      "metadata": {
        "id": "jjOpQRs1_osn"
      }
    }
  ]
}