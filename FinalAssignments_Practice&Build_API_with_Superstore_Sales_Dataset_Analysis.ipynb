{
  "nbformat": 4,
  "nbformat_minor": 0,
  "metadata": {
    "colab": {
      "provenance": [],
      "collapsed_sections": [],
      "toc_visible": true,
      "authorship_tag": "ABX9TyOc9psgHMho/2t1WySpXhTI",
      "include_colab_link": true
    },
    "kernelspec": {
      "name": "python3",
      "display_name": "Python 3"
    },
    "language_info": {
      "name": "python"
    }
  },
  "cells": [
    {
      "cell_type": "markdown",
      "metadata": {
        "id": "view-in-github",
        "colab_type": "text"
      },
      "source": [
        "<a href=\"https://colab.research.google.com/github/khanh22mse23057/python4engineer-assignments/blob/main/FinalAssignments_Practice%26Build_API_with_Superstore_Sales_Dataset_Analysis.ipynb\" target=\"_parent\"><img src=\"https://colab.research.google.com/assets/colab-badge.svg\" alt=\"Open In Colab\"/></a>"
      ]
    },
    {
      "cell_type": "markdown",
      "source": [
        "# Bài tập lớn kết thúc môn"
      ],
      "metadata": {
        "id": "auDhZYgP4w2D"
      }
    },
    {
      "cell_type": "markdown",
      "source": [
        "##  *Đặt vấn đề*\n",
        "\n",
        "Cho tập dữ liệu về doanh số bán hàng gồm các thông tin như sau:\n",
        "[Input Data](https://drive.google.com/file/d/1QWD8rceAWo6KJYHh6Tx0eBtAM9U1EQno/view?usp=sharing(sad)\n",
        "\n",
        "[Superstore Sales Dataset Analysis | Kaggle ](https://www.kaggle.com/code/adamossama/superstore-sales-dataset-analysis/data)\n",
        "- order_id\n",
        "- order_date\n",
        "- ship_date\n",
        "- ship_mode\n",
        "- customer_id\n",
        "- customer_name\n",
        "- segment\n",
        "- country\n",
        "- city\n",
        "- state\n",
        "- region\n",
        "- product_id\n",
        "- sub-category\n",
        "- product_name\n",
        "- sales\n",
        "\n",
        "Hãy sử dụng Python và Jupyter Notebook để trả lời các câu hỏi sau\n",
        "\n"
      ],
      "metadata": {
        "id": "E6O98r0V8-Jc"
      }
    },
    {
      "cell_type": "markdown",
      "source": [
        "## Cài đặt môi trường"
      ],
      "metadata": {
        "id": "2qFVLGhzoy4B"
      }
    },
    {
      "cell_type": "code",
      "source": [
        "# Trước hết, bạn cần install Python và package Kaggle\n",
        "# Một số functions trong bài không work với latest version, nên cài đặt packages version chỉ định như sau\n",
        "!pip install opendatasets\n",
        "# !pip install pandas==1.2.0\n",
        "# !pip install pystan==3.0.0\n",
        "!pip install pandas\n",
        "!pip install pystan\n",
        "!pip install kaggle\n",
        "!pip install unzip"
      ],
      "metadata": {
        "id": "RwbRYLsHU9rZ",
        "colab": {
          "base_uri": "https://localhost:8080/"
        },
        "outputId": "0de5834b-a602-42e0-e5f3-ea0b738cfdcb"
      },
      "execution_count": 1,
      "outputs": [
        {
          "output_type": "stream",
          "name": "stdout",
          "text": [
            "Looking in indexes: https://pypi.org/simple, https://us-python.pkg.dev/colab-wheels/public/simple/\n",
            "Collecting opendatasets\n",
            "  Downloading opendatasets-0.1.22-py3-none-any.whl (15 kB)\n",
            "Requirement already satisfied: click in /usr/local/lib/python3.7/dist-packages (from opendatasets) (7.1.2)\n",
            "Requirement already satisfied: kaggle in /usr/local/lib/python3.7/dist-packages (from opendatasets) (1.5.12)\n",
            "Requirement already satisfied: tqdm in /usr/local/lib/python3.7/dist-packages (from opendatasets) (4.64.1)\n",
            "Requirement already satisfied: requests in /usr/local/lib/python3.7/dist-packages (from kaggle->opendatasets) (2.23.0)\n",
            "Requirement already satisfied: python-slugify in /usr/local/lib/python3.7/dist-packages (from kaggle->opendatasets) (6.1.2)\n",
            "Requirement already satisfied: certifi in /usr/local/lib/python3.7/dist-packages (from kaggle->opendatasets) (2022.9.24)\n",
            "Requirement already satisfied: python-dateutil in /usr/local/lib/python3.7/dist-packages (from kaggle->opendatasets) (2.8.2)\n",
            "Requirement already satisfied: six>=1.10 in /usr/local/lib/python3.7/dist-packages (from kaggle->opendatasets) (1.15.0)\n",
            "Requirement already satisfied: urllib3 in /usr/local/lib/python3.7/dist-packages (from kaggle->opendatasets) (1.24.3)\n",
            "Requirement already satisfied: text-unidecode>=1.3 in /usr/local/lib/python3.7/dist-packages (from python-slugify->kaggle->opendatasets) (1.3)\n",
            "Requirement already satisfied: chardet<4,>=3.0.2 in /usr/local/lib/python3.7/dist-packages (from requests->kaggle->opendatasets) (3.0.4)\n",
            "Requirement already satisfied: idna<3,>=2.5 in /usr/local/lib/python3.7/dist-packages (from requests->kaggle->opendatasets) (2.10)\n",
            "Installing collected packages: opendatasets\n",
            "Successfully installed opendatasets-0.1.22\n",
            "Looking in indexes: https://pypi.org/simple, https://us-python.pkg.dev/colab-wheels/public/simple/\n",
            "Requirement already satisfied: pandas in /usr/local/lib/python3.7/dist-packages (1.3.5)\n",
            "Requirement already satisfied: numpy>=1.17.3 in /usr/local/lib/python3.7/dist-packages (from pandas) (1.21.6)\n",
            "Requirement already satisfied: pytz>=2017.3 in /usr/local/lib/python3.7/dist-packages (from pandas) (2022.4)\n",
            "Requirement already satisfied: python-dateutil>=2.7.3 in /usr/local/lib/python3.7/dist-packages (from pandas) (2.8.2)\n",
            "Requirement already satisfied: six>=1.5 in /usr/local/lib/python3.7/dist-packages (from python-dateutil>=2.7.3->pandas) (1.15.0)\n",
            "Looking in indexes: https://pypi.org/simple, https://us-python.pkg.dev/colab-wheels/public/simple/\n",
            "Requirement already satisfied: pystan in /usr/local/lib/python3.7/dist-packages (3.3.0)\n",
            "Requirement already satisfied: numpy<2.0,>=1.7 in /usr/local/lib/python3.7/dist-packages (from pystan) (1.21.6)\n",
            "Requirement already satisfied: clikit<0.7,>=0.6 in /usr/local/lib/python3.7/dist-packages (from pystan) (0.6.2)\n",
            "Requirement already satisfied: httpstan<4.7,>=4.6 in /usr/local/lib/python3.7/dist-packages (from pystan) (4.6.1)\n",
            "Requirement already satisfied: pysimdjson<4.0,>=3.2 in /usr/local/lib/python3.7/dist-packages (from pystan) (3.2.0)\n",
            "Requirement already satisfied: aiohttp<4.0,>=3.6 in /usr/local/lib/python3.7/dist-packages (from pystan) (3.8.3)\n",
            "Requirement already satisfied: aiosignal>=1.1.2 in /usr/local/lib/python3.7/dist-packages (from aiohttp<4.0,>=3.6->pystan) (1.2.0)\n",
            "Requirement already satisfied: charset-normalizer<3.0,>=2.0 in /usr/local/lib/python3.7/dist-packages (from aiohttp<4.0,>=3.6->pystan) (2.1.1)\n",
            "Requirement already satisfied: asynctest==0.13.0 in /usr/local/lib/python3.7/dist-packages (from aiohttp<4.0,>=3.6->pystan) (0.13.0)\n",
            "Requirement already satisfied: multidict<7.0,>=4.5 in /usr/local/lib/python3.7/dist-packages (from aiohttp<4.0,>=3.6->pystan) (6.0.2)\n",
            "Requirement already satisfied: attrs>=17.3.0 in /usr/local/lib/python3.7/dist-packages (from aiohttp<4.0,>=3.6->pystan) (22.1.0)\n",
            "Requirement already satisfied: frozenlist>=1.1.1 in /usr/local/lib/python3.7/dist-packages (from aiohttp<4.0,>=3.6->pystan) (1.3.1)\n",
            "Requirement already satisfied: async-timeout<5.0,>=4.0.0a3 in /usr/local/lib/python3.7/dist-packages (from aiohttp<4.0,>=3.6->pystan) (4.0.2)\n",
            "Requirement already satisfied: typing-extensions>=3.7.4 in /usr/local/lib/python3.7/dist-packages (from aiohttp<4.0,>=3.6->pystan) (4.1.1)\n",
            "Requirement already satisfied: yarl<2.0,>=1.0 in /usr/local/lib/python3.7/dist-packages (from aiohttp<4.0,>=3.6->pystan) (1.8.1)\n",
            "Requirement already satisfied: pastel<0.3.0,>=0.2.0 in /usr/local/lib/python3.7/dist-packages (from clikit<0.7,>=0.6->pystan) (0.2.1)\n",
            "Requirement already satisfied: pylev<2.0,>=1.3 in /usr/local/lib/python3.7/dist-packages (from clikit<0.7,>=0.6->pystan) (1.4.0)\n",
            "Requirement already satisfied: crashtest<0.4.0,>=0.3.0 in /usr/local/lib/python3.7/dist-packages (from clikit<0.7,>=0.6->pystan) (0.3.1)\n",
            "Requirement already satisfied: webargs<9.0,>=8.0 in /usr/local/lib/python3.7/dist-packages (from httpstan<4.7,>=4.6->pystan) (8.2.0)\n",
            "Requirement already satisfied: setuptools>=41.0 in /usr/local/lib/python3.7/dist-packages (from httpstan<4.7,>=4.6->pystan) (57.4.0)\n",
            "Requirement already satisfied: marshmallow<4.0,>=3.10 in /usr/local/lib/python3.7/dist-packages (from httpstan<4.7,>=4.6->pystan) (3.18.0)\n",
            "Requirement already satisfied: appdirs<2.0,>=1.4 in /usr/local/lib/python3.7/dist-packages (from httpstan<4.7,>=4.6->pystan) (1.4.4)\n",
            "Requirement already satisfied: packaging>=17.0 in /usr/local/lib/python3.7/dist-packages (from marshmallow<4.0,>=3.10->httpstan<4.7,>=4.6->pystan) (21.3)\n",
            "Requirement already satisfied: pyparsing!=3.0.5,>=2.0.2 in /usr/local/lib/python3.7/dist-packages (from packaging>=17.0->marshmallow<4.0,>=3.10->httpstan<4.7,>=4.6->pystan) (3.0.9)\n",
            "Requirement already satisfied: idna>=2.0 in /usr/local/lib/python3.7/dist-packages (from yarl<2.0,>=1.0->aiohttp<4.0,>=3.6->pystan) (2.10)\n",
            "Looking in indexes: https://pypi.org/simple, https://us-python.pkg.dev/colab-wheels/public/simple/\n",
            "Requirement already satisfied: kaggle in /usr/local/lib/python3.7/dist-packages (1.5.12)\n",
            "Requirement already satisfied: python-slugify in /usr/local/lib/python3.7/dist-packages (from kaggle) (6.1.2)\n",
            "Requirement already satisfied: six>=1.10 in /usr/local/lib/python3.7/dist-packages (from kaggle) (1.15.0)\n",
            "Requirement already satisfied: python-dateutil in /usr/local/lib/python3.7/dist-packages (from kaggle) (2.8.2)\n",
            "Requirement already satisfied: certifi in /usr/local/lib/python3.7/dist-packages (from kaggle) (2022.9.24)\n",
            "Requirement already satisfied: requests in /usr/local/lib/python3.7/dist-packages (from kaggle) (2.23.0)\n",
            "Requirement already satisfied: urllib3 in /usr/local/lib/python3.7/dist-packages (from kaggle) (1.24.3)\n",
            "Requirement already satisfied: tqdm in /usr/local/lib/python3.7/dist-packages (from kaggle) (4.64.1)\n",
            "Requirement already satisfied: text-unidecode>=1.3 in /usr/local/lib/python3.7/dist-packages (from python-slugify->kaggle) (1.3)\n",
            "Requirement already satisfied: idna<3,>=2.5 in /usr/local/lib/python3.7/dist-packages (from requests->kaggle) (2.10)\n",
            "Requirement already satisfied: chardet<4,>=3.0.2 in /usr/local/lib/python3.7/dist-packages (from requests->kaggle) (3.0.4)\n",
            "Looking in indexes: https://pypi.org/simple, https://us-python.pkg.dev/colab-wheels/public/simple/\n",
            "Collecting unzip\n",
            "  Downloading unzip-1.0.0.tar.gz (704 bytes)\n",
            "Building wheels for collected packages: unzip\n",
            "  Building wheel for unzip (setup.py) ... \u001b[?25l\u001b[?25hdone\n",
            "  Created wheel for unzip: filename=unzip-1.0.0-py3-none-any.whl size=1319 sha256=d3cb4ef81eae5be6624568ab9eb17d658df6e4c876d66e1b45a094158c27c430\n",
            "  Stored in directory: /root/.cache/pip/wheels/c5/05/b3/f7b36dbaaf76de31b718cde792c953bfd11d2414a72f204b56\n",
            "Successfully built unzip\n",
            "Installing collected packages: unzip\n",
            "Successfully installed unzip-1.0.0\n"
          ]
        }
      ]
    },
    {
      "cell_type": "markdown",
      "source": [
        "\n",
        "## Chuẩn bị dữ liệu\n",
        "Để truy cập được tệp data từ Kaggle, cần phải tạo key và cấu hình môi trường\n",
        "\n",
        "Ví dụ file secret key được tạo từ Kaggle và được lấy về từ github. Cách tạo key : https://prnt.sc/UCwb6zgoPzYT\n",
        "* Lưu ý: Kaggle yêu cầu xác thực tài khoản bằng số điện thoại để cấp cấp quyền truy cập dữ liệu."
      ],
      "metadata": {
        "id": "0BjFy9eTxfHk"
      }
    },
    {
      "cell_type": "markdown",
      "source": [
        "#### Import thư viện"
      ],
      "metadata": {
        "id": "9OiQ7FXePV7X"
      }
    },
    {
      "cell_type": "code",
      "source": [
        "import os\n",
        "#Cấu hình secret key để xác thực truy cập đến Kaggle trên môi trường\n",
        "os.environ['KAGGLE_USERNAME'] = 'khanhphamnguyenphu'\n",
        "os.environ['KAGGLE_KEY'] = '67b96e181bd01730f8e8ec3cf2b685a7'\n",
        "\n",
        "!if [ -d ~/.kaggle/ ]; then rm -Rf ~/.kaggle/; fi\n",
        "!if [ -d ./kaggle/input/ ]; then rm -Rf ./kaggle/input/; fi\n",
        "\n",
        "!kaggle competitions download -c m5-forecasting-accuracy -p ./kaggle/input/ # Download dữ liệu train từ Kaggle\n",
        "!unzip  ./kaggle/input/*.zip -d ./kaggle/input/\n",
        "!ls ./kaggle/input/  #Kiểm tra lại các files đã download\n"
      ],
      "metadata": {
        "colab": {
          "base_uri": "https://localhost:8080/"
        },
        "id": "S3-V3wLULniG",
        "outputId": "69c28a0a-7095-4db8-f03f-5db8d5fbd5b9"
      },
      "execution_count": null,
      "outputs": [
        {
          "output_type": "stream",
          "name": "stdout",
          "text": [
            "Downloading m5-forecasting-accuracy.zip to ./kaggle/input\n",
            " 55% 25.0M/45.8M [00:00<00:00, 50.6MB/s]\n",
            "100% 45.8M/45.8M [00:00<00:00, 72.4MB/s]\n",
            "Archive:  ./kaggle/input/m5-forecasting-accuracy.zip\n",
            "  inflating: ./kaggle/input/calendar.csv  \n",
            "  inflating: ./kaggle/input/sales_train_evaluation.csv  \n",
            "  inflating: ./kaggle/input/sales_train_validation.csv  \n",
            "  inflating: ./kaggle/input/sample_submission.csv  \n",
            "  inflating: ./kaggle/input/sell_prices.csv  \n",
            "calendar.csv\t\t     sales_train_evaluation.csv  sample_submission.csv\n",
            "m5-forecasting-accuracy.zip  sales_train_validation.csv  sell_prices.csv\n"
          ]
        }
      ]
    },
    {
      "cell_type": "code",
      "source": [],
      "metadata": {
        "id": "tG00fi4cPiAe"
      },
      "execution_count": null,
      "outputs": []
    },
    {
      "cell_type": "markdown",
      "source": [
        "#### Load dữ liệu"
      ],
      "metadata": {
        "id": "s3uYkj3XTcHb"
      }
    },
    {
      "cell_type": "code",
      "source": [
        "# Đọc dữ liệu từ file csv vào data frame\n",
        "# calender = pd.read_csv('/content/kaggle/input/calendar.csv')\n",
        "# train_sales = pd.read_csv('/content/kaggle/input/sales_train_evaluation.csv')\n",
        "# df_val = pd.read_csv('/content/kaggle/input/sales_train_validation.csv')\n",
        "# sell_prices = pd.read_csv('/content/kaggle/input/sell_prices.csv')\n",
        "\n",
        "# # check data completely \n",
        "# print('-----------------------------train_sales--------------------------------------')\n",
        "# train_sales.info()\n",
        "# print('-----------------------------calender--------------------------------------')\n",
        "# calender.info()\n",
        "# print('-----------------------------sell_prices--------------------------------------')\n",
        "# sell_prices.info()\n"
      ],
      "metadata": {
        "id": "1vgTCvTZP_uN"
      },
      "execution_count": 3,
      "outputs": []
    },
    {
      "cell_type": "markdown",
      "source": [
        "## Câu 1.Tiền xử lý dữ liệu \n",
        "(xử lý các trường hợp thiếu dữ liệu, chuẩn hóa ngày tháng, đơn vị,...)."
      ],
      "metadata": {
        "id": "54BLD0Q99aJn"
      }
    },
    {
      "cell_type": "markdown",
      "source": [
        "## Câu 2.Vẽ biểu đồ thể hiện biến động doanh số theo tháng\n",
        "Cho biết doanh thu trung bình trong 3 tháng gần nhất.\n"
      ],
      "metadata": {
        "id": "9_lOEUIn9qat"
      }
    },
    {
      "cell_type": "code",
      "source": [],
      "metadata": {
        "id": "qzfoJCHF-YG3"
      },
      "execution_count": null,
      "outputs": []
    },
    {
      "cell_type": "markdown",
      "source": [
        "## Câu 3.Vẽ biểu đồ doanh số bán hàng theo quý \n"
      ],
      "metadata": {
        "id": "Gx6WcADK9v-C"
      }
    },
    {
      "cell_type": "markdown",
      "source": [
        "#### Xác định quý nào có tổng doanh số cao nhất"
      ],
      "metadata": {
        "id": "rChNv83x-Qmy"
      }
    },
    {
      "cell_type": "markdown",
      "source": [
        "## Câu 4.Tính thời gian trung giao hàng trung bình"
      ],
      "metadata": {
        "id": "LOcjEmhs9xh_"
      }
    },
    {
      "cell_type": "markdown",
      "source": [
        "## Câu 5.Vẽ biểu đồ thể hiện sức mua theo từng thành phố"
      ],
      "metadata": {
        "id": "SRuVUxKk-eXJ"
      }
    },
    {
      "cell_type": "markdown",
      "source": [
        "#### Xác định top 3 thành phố có doanh số thấp nhất và 3 thành phố có doanh số cao nhất.\n"
      ],
      "metadata": {
        "id": "rr0s1knJ-4mS"
      }
    },
    {
      "cell_type": "markdown",
      "source": [
        "## Câu 6.Vẽ biểu đồ thể hiện tỉ trọng doanh số theo bang (state)"
      ],
      "metadata": {
        "id": "fVLSxM_J-mBT"
      }
    },
    {
      "cell_type": "markdown",
      "source": [
        "#### Xác định trung bình doanh số của 5 bang dẫn đầu về sức mua."
      ],
      "metadata": {
        "id": "v7DwHkYQ_E3G"
      }
    },
    {
      "cell_type": "markdown",
      "source": [
        "## Câu 7.Cho biết các bang dẫn đầu doanh số theo từng vùng\n",
        "(east, west, south, central,..)"
      ],
      "metadata": {
        "id": "xQKkJzdR-ndZ"
      }
    },
    {
      "cell_type": "markdown",
      "source": [
        "## Câu 8.Xác định top 3 sản phẩm có doanh thu cao nhất và top 3 sản phẩm có số lượng đơn vị bán ra cao nhất"
      ],
      "metadata": {
        "id": "WZaN17Fo-uQi"
      }
    },
    {
      "cell_type": "markdown",
      "source": [
        "## Câu 9.Vẽ biểu đồ thể hiện tỉ trọng doanh số của từng category"
      ],
      "metadata": {
        "id": "WROx7dlW-v5_"
      }
    },
    {
      "cell_type": "markdown",
      "source": [
        "## Câu 10.Dự báo doanh số theo nhiều khía cạnh khác nhau trong tương lai: \n",
        "theo vùng, theo bang, theo category"
      ],
      "metadata": {
        "id": "K3o-8ybA_a0a"
      }
    },
    {
      "cell_type": "markdown",
      "source": [
        "# Triển khai API"
      ],
      "metadata": {
        "id": "jjOpQRs1_osn"
      }
    }
  ]
}